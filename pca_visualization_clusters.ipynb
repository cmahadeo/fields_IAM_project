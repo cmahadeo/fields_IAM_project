{
 "cells": [
  {
   "cell_type": "code",
   "id": "initial_id",
   "metadata": {
    "collapsed": true,
    "ExecuteTime": {
     "end_time": "2025-06-17T03:49:39.134649Z",
     "start_time": "2025-06-17T03:49:39.124966Z"
    }
   },
   "source": [
    "import pandas as pd\n",
    "import numpy as np\n",
    "from sklearn.cluster import KMeans\n",
    "from sklearn.preprocessing import StandardScaler\n",
    "from sklearn.decomposition import PCA\n",
    "from sklearn.metrics import silhouette_score\n",
    "import plotly.graph_objects as go\n",
    "from sklearn.preprocessing import MultiLabelBinarizer\n",
    "from plotly.subplots import make_subplots\n",
    "import warnings\n",
    "warnings.filterwarnings('ignore')\n",
    "from clustering_pre_post_toxicdetection import load_toxic_combinations_from_single_file, get_privilege_level, binarize_entitlement_data_by_department, clean_binarized_data_with_toxic_combinations,perform_clustering_analysis, create_detailed_comparison_summary, complete_entitlement_cleaning_pipeline"
   ],
   "outputs": [],
   "execution_count": 15
  },
  {
   "metadata": {
    "ExecuteTime": {
     "end_time": "2025-06-17T03:49:41.542168Z",
     "start_time": "2025-06-17T03:49:39.699599Z"
    }
   },
   "cell_type": "code",
   "source": "data_toxic=pd.read_csv('data/data.csv')",
   "id": "8e60d692c3cb9d5c",
   "outputs": [],
   "execution_count": 16
  },
  {
   "metadata": {
    "ExecuteTime": {
     "end_time": "2025-06-17T03:51:04.890350Z",
     "start_time": "2025-06-17T03:51:04.862940Z"
    }
   },
   "cell_type": "code",
   "source": "data_toxic.head()",
   "id": "5b70764a46377fb8",
   "outputs": [
    {
     "data": {
      "text/plain": [
       "   Unnamed: 0 employee_id entitlement_id  grant_date  \\\n",
       "0           0        E001        ENT1292  2024-02-16   \n",
       "1           1        E001         ENT171  2024-07-26   \n",
       "2           2        E001         ENT486  2021-10-30   \n",
       "3           3        E001        ENT1368  2025-02-08   \n",
       "4           4        E001        ENT1774  2023-04-26   \n",
       "\n",
       "                                    entitlement_name application_id   type  \\\n",
       "0             Admin_TradingPlatformAsianotifications           A033  admin   \n",
       "1                                  Admin_FXpositions           A005  admin   \n",
       "2                    Read_MobileBankingnotifications           A013   read   \n",
       "3  Admin_TradingPlatformAmericasconfigurationsett...           A035  admin   \n",
       "4      Write_CardManagementAsiaconfigurationsettings           A045  write   \n",
       "\n",
       "                             entitlement_description  risk_level  \\\n",
       "0               MODIFY_accounts_TRADINGPLATFORM ASIA           8   \n",
       "1          Define FX positions in TreasuryManagement           8   \n",
       "2  Retrieve MobileBanking notifications in Mobile...           4   \n",
       "3  Control TradingPlatform Americas configuration...           8   \n",
       "4                                        User access           6   \n",
       "\n",
       "                                       function department_id manager_id  \\\n",
       "0              TradingPlatformAsianotifications          D011        NaN   \n",
       "1                                   FXpositions          D011        NaN   \n",
       "2                    MobileBankingnotifications          D011        NaN   \n",
       "3  TradingPlatformAmericasconfigurationsettings          D011        NaN   \n",
       "4       CardManagementAsiaconfigurationsettings          D011        NaN   \n",
       "\n",
       "  name_department parent_id                      name  \\\n",
       "0        Treasury      D002      TradingPlatform Asia   \n",
       "1        Treasury      D002        TreasuryManagement   \n",
       "2        Treasury      D002             MobileBanking   \n",
       "3        Treasury      D002  TradingPlatform Americas   \n",
       "4        Treasury      D002       CardManagement Asia   \n",
       "\n",
       "                                     app_description  criticality  \n",
       "0  Financial instrument trading system - Asia reg...            9  \n",
       "1             Cash and liquidity management platform            7  \n",
       "2                Mobile banking application platform            7  \n",
       "3  Financial instrument trading system - Americas...            9  \n",
       "4  Credit and debit card issuance and management ...            8  "
      ],
      "text/html": [
       "<div>\n",
       "<style scoped>\n",
       "    .dataframe tbody tr th:only-of-type {\n",
       "        vertical-align: middle;\n",
       "    }\n",
       "\n",
       "    .dataframe tbody tr th {\n",
       "        vertical-align: top;\n",
       "    }\n",
       "\n",
       "    .dataframe thead th {\n",
       "        text-align: right;\n",
       "    }\n",
       "</style>\n",
       "<table border=\"1\" class=\"dataframe\">\n",
       "  <thead>\n",
       "    <tr style=\"text-align: right;\">\n",
       "      <th></th>\n",
       "      <th>Unnamed: 0</th>\n",
       "      <th>employee_id</th>\n",
       "      <th>entitlement_id</th>\n",
       "      <th>grant_date</th>\n",
       "      <th>entitlement_name</th>\n",
       "      <th>application_id</th>\n",
       "      <th>type</th>\n",
       "      <th>entitlement_description</th>\n",
       "      <th>risk_level</th>\n",
       "      <th>function</th>\n",
       "      <th>department_id</th>\n",
       "      <th>manager_id</th>\n",
       "      <th>name_department</th>\n",
       "      <th>parent_id</th>\n",
       "      <th>name</th>\n",
       "      <th>app_description</th>\n",
       "      <th>criticality</th>\n",
       "    </tr>\n",
       "  </thead>\n",
       "  <tbody>\n",
       "    <tr>\n",
       "      <th>0</th>\n",
       "      <td>0</td>\n",
       "      <td>E001</td>\n",
       "      <td>ENT1292</td>\n",
       "      <td>2024-02-16</td>\n",
       "      <td>Admin_TradingPlatformAsianotifications</td>\n",
       "      <td>A033</td>\n",
       "      <td>admin</td>\n",
       "      <td>MODIFY_accounts_TRADINGPLATFORM ASIA</td>\n",
       "      <td>8</td>\n",
       "      <td>TradingPlatformAsianotifications</td>\n",
       "      <td>D011</td>\n",
       "      <td>NaN</td>\n",
       "      <td>Treasury</td>\n",
       "      <td>D002</td>\n",
       "      <td>TradingPlatform Asia</td>\n",
       "      <td>Financial instrument trading system - Asia reg...</td>\n",
       "      <td>9</td>\n",
       "    </tr>\n",
       "    <tr>\n",
       "      <th>1</th>\n",
       "      <td>1</td>\n",
       "      <td>E001</td>\n",
       "      <td>ENT171</td>\n",
       "      <td>2024-07-26</td>\n",
       "      <td>Admin_FXpositions</td>\n",
       "      <td>A005</td>\n",
       "      <td>admin</td>\n",
       "      <td>Define FX positions in TreasuryManagement</td>\n",
       "      <td>8</td>\n",
       "      <td>FXpositions</td>\n",
       "      <td>D011</td>\n",
       "      <td>NaN</td>\n",
       "      <td>Treasury</td>\n",
       "      <td>D002</td>\n",
       "      <td>TreasuryManagement</td>\n",
       "      <td>Cash and liquidity management platform</td>\n",
       "      <td>7</td>\n",
       "    </tr>\n",
       "    <tr>\n",
       "      <th>2</th>\n",
       "      <td>2</td>\n",
       "      <td>E001</td>\n",
       "      <td>ENT486</td>\n",
       "      <td>2021-10-30</td>\n",
       "      <td>Read_MobileBankingnotifications</td>\n",
       "      <td>A013</td>\n",
       "      <td>read</td>\n",
       "      <td>Retrieve MobileBanking notifications in Mobile...</td>\n",
       "      <td>4</td>\n",
       "      <td>MobileBankingnotifications</td>\n",
       "      <td>D011</td>\n",
       "      <td>NaN</td>\n",
       "      <td>Treasury</td>\n",
       "      <td>D002</td>\n",
       "      <td>MobileBanking</td>\n",
       "      <td>Mobile banking application platform</td>\n",
       "      <td>7</td>\n",
       "    </tr>\n",
       "    <tr>\n",
       "      <th>3</th>\n",
       "      <td>3</td>\n",
       "      <td>E001</td>\n",
       "      <td>ENT1368</td>\n",
       "      <td>2025-02-08</td>\n",
       "      <td>Admin_TradingPlatformAmericasconfigurationsett...</td>\n",
       "      <td>A035</td>\n",
       "      <td>admin</td>\n",
       "      <td>Control TradingPlatform Americas configuration...</td>\n",
       "      <td>8</td>\n",
       "      <td>TradingPlatformAmericasconfigurationsettings</td>\n",
       "      <td>D011</td>\n",
       "      <td>NaN</td>\n",
       "      <td>Treasury</td>\n",
       "      <td>D002</td>\n",
       "      <td>TradingPlatform Americas</td>\n",
       "      <td>Financial instrument trading system - Americas...</td>\n",
       "      <td>9</td>\n",
       "    </tr>\n",
       "    <tr>\n",
       "      <th>4</th>\n",
       "      <td>4</td>\n",
       "      <td>E001</td>\n",
       "      <td>ENT1774</td>\n",
       "      <td>2023-04-26</td>\n",
       "      <td>Write_CardManagementAsiaconfigurationsettings</td>\n",
       "      <td>A045</td>\n",
       "      <td>write</td>\n",
       "      <td>User access</td>\n",
       "      <td>6</td>\n",
       "      <td>CardManagementAsiaconfigurationsettings</td>\n",
       "      <td>D011</td>\n",
       "      <td>NaN</td>\n",
       "      <td>Treasury</td>\n",
       "      <td>D002</td>\n",
       "      <td>CardManagement Asia</td>\n",
       "      <td>Credit and debit card issuance and management ...</td>\n",
       "      <td>8</td>\n",
       "    </tr>\n",
       "  </tbody>\n",
       "</table>\n",
       "</div>"
      ]
     },
     "execution_count": 19,
     "metadata": {},
     "output_type": "execute_result"
    }
   ],
   "execution_count": 19
  },
  {
   "metadata": {
    "ExecuteTime": {
     "end_time": "2025-06-17T03:51:44.603325Z",
     "start_time": "2025-06-17T03:51:44.505698Z"
    }
   },
   "cell_type": "code",
   "source": "data_toxic=data_toxic.drop('Unnamed: 0', axis=1)",
   "id": "b450211477a4eec1",
   "outputs": [],
   "execution_count": 20
  },
  {
   "metadata": {
    "ExecuteTime": {
     "end_time": "2025-06-17T03:52:46.166966Z",
     "start_time": "2025-06-17T03:52:45.869510Z"
    }
   },
   "cell_type": "code",
   "source": [
    "entitlements_sets = data_toxic.groupby(['employee_id'])['entitlement_id'].apply(set)\n",
    "\n",
    "# Reset index to get both employee_id and employee_name as columns\n",
    "entitlements_sets = entitlements_sets.reset_index()\n",
    "#print(entitlements_sets)\n",
    "\n",
    "# Initialize and fit the binarizer on the 'entitlements' column\n",
    "mlb = MultiLabelBinarizer()\n",
    "entitlements_binarized = mlb.fit_transform(entitlements_sets['entitlement_id'])\n",
    "\n",
    "# Create binarized DataFrame\n",
    "binarized_df = pd.DataFrame(\n",
    "    entitlements_binarized,\n",
    "    columns=mlb.classes_,\n",
    ")\n",
    "\n",
    "# Insert Employee_ID at the front\n",
    "binarized_df.insert(0, 'employee_id', entitlements_sets['employee_id'].values)"
   ],
   "id": "d02984b41b91074d",
   "outputs": [],
   "execution_count": 23
  },
  {
   "metadata": {
    "ExecuteTime": {
     "end_time": "2025-06-17T03:52:59.519351Z",
     "start_time": "2025-06-17T03:52:59.498990Z"
    }
   },
   "cell_type": "code",
   "source": "binarized_df.head()",
   "id": "4118a340013913a2",
   "outputs": [
    {
     "data": {
      "text/plain": [
       "  employee_id  ENT001  ENT002  ENT003  ENT004  ENT005  ENT006  ENT007  ENT008  \\\n",
       "0        E001       0       1       0       1       1       1       1       1   \n",
       "1        E002       0       1       0       1       1       1       1       0   \n",
       "2        E003       0       1       0       0       1       1       0       0   \n",
       "3        E004       1       1       0       1       1       1       1       1   \n",
       "4        E005       1       0       0       0       1       0       1       0   \n",
       "\n",
       "   ENT009  ...  ENT990  ENT991  ENT992  ENT993  ENT994  ENT995  ENT996  \\\n",
       "0       1  ...       1       0       0       0       0       0       1   \n",
       "1       0  ...       0       0       1       0       0       0       0   \n",
       "2       0  ...       1       0       1       0       0       0       1   \n",
       "3       1  ...       0       0       1       0       0       0       1   \n",
       "4       1  ...       0       1       0       0       1       1       1   \n",
       "\n",
       "   ENT997  ENT998  ENT999  \n",
       "0       0       1       0  \n",
       "1       0       1       0  \n",
       "2       0       1       1  \n",
       "3       0       1       0  \n",
       "4       0       0       0  \n",
       "\n",
       "[5 rows x 2001 columns]"
      ],
      "text/html": [
       "<div>\n",
       "<style scoped>\n",
       "    .dataframe tbody tr th:only-of-type {\n",
       "        vertical-align: middle;\n",
       "    }\n",
       "\n",
       "    .dataframe tbody tr th {\n",
       "        vertical-align: top;\n",
       "    }\n",
       "\n",
       "    .dataframe thead th {\n",
       "        text-align: right;\n",
       "    }\n",
       "</style>\n",
       "<table border=\"1\" class=\"dataframe\">\n",
       "  <thead>\n",
       "    <tr style=\"text-align: right;\">\n",
       "      <th></th>\n",
       "      <th>employee_id</th>\n",
       "      <th>ENT001</th>\n",
       "      <th>ENT002</th>\n",
       "      <th>ENT003</th>\n",
       "      <th>ENT004</th>\n",
       "      <th>ENT005</th>\n",
       "      <th>ENT006</th>\n",
       "      <th>ENT007</th>\n",
       "      <th>ENT008</th>\n",
       "      <th>ENT009</th>\n",
       "      <th>...</th>\n",
       "      <th>ENT990</th>\n",
       "      <th>ENT991</th>\n",
       "      <th>ENT992</th>\n",
       "      <th>ENT993</th>\n",
       "      <th>ENT994</th>\n",
       "      <th>ENT995</th>\n",
       "      <th>ENT996</th>\n",
       "      <th>ENT997</th>\n",
       "      <th>ENT998</th>\n",
       "      <th>ENT999</th>\n",
       "    </tr>\n",
       "  </thead>\n",
       "  <tbody>\n",
       "    <tr>\n",
       "      <th>0</th>\n",
       "      <td>E001</td>\n",
       "      <td>0</td>\n",
       "      <td>1</td>\n",
       "      <td>0</td>\n",
       "      <td>1</td>\n",
       "      <td>1</td>\n",
       "      <td>1</td>\n",
       "      <td>1</td>\n",
       "      <td>1</td>\n",
       "      <td>1</td>\n",
       "      <td>...</td>\n",
       "      <td>1</td>\n",
       "      <td>0</td>\n",
       "      <td>0</td>\n",
       "      <td>0</td>\n",
       "      <td>0</td>\n",
       "      <td>0</td>\n",
       "      <td>1</td>\n",
       "      <td>0</td>\n",
       "      <td>1</td>\n",
       "      <td>0</td>\n",
       "    </tr>\n",
       "    <tr>\n",
       "      <th>1</th>\n",
       "      <td>E002</td>\n",
       "      <td>0</td>\n",
       "      <td>1</td>\n",
       "      <td>0</td>\n",
       "      <td>1</td>\n",
       "      <td>1</td>\n",
       "      <td>1</td>\n",
       "      <td>1</td>\n",
       "      <td>0</td>\n",
       "      <td>0</td>\n",
       "      <td>...</td>\n",
       "      <td>0</td>\n",
       "      <td>0</td>\n",
       "      <td>1</td>\n",
       "      <td>0</td>\n",
       "      <td>0</td>\n",
       "      <td>0</td>\n",
       "      <td>0</td>\n",
       "      <td>0</td>\n",
       "      <td>1</td>\n",
       "      <td>0</td>\n",
       "    </tr>\n",
       "    <tr>\n",
       "      <th>2</th>\n",
       "      <td>E003</td>\n",
       "      <td>0</td>\n",
       "      <td>1</td>\n",
       "      <td>0</td>\n",
       "      <td>0</td>\n",
       "      <td>1</td>\n",
       "      <td>1</td>\n",
       "      <td>0</td>\n",
       "      <td>0</td>\n",
       "      <td>0</td>\n",
       "      <td>...</td>\n",
       "      <td>1</td>\n",
       "      <td>0</td>\n",
       "      <td>1</td>\n",
       "      <td>0</td>\n",
       "      <td>0</td>\n",
       "      <td>0</td>\n",
       "      <td>1</td>\n",
       "      <td>0</td>\n",
       "      <td>1</td>\n",
       "      <td>1</td>\n",
       "    </tr>\n",
       "    <tr>\n",
       "      <th>3</th>\n",
       "      <td>E004</td>\n",
       "      <td>1</td>\n",
       "      <td>1</td>\n",
       "      <td>0</td>\n",
       "      <td>1</td>\n",
       "      <td>1</td>\n",
       "      <td>1</td>\n",
       "      <td>1</td>\n",
       "      <td>1</td>\n",
       "      <td>1</td>\n",
       "      <td>...</td>\n",
       "      <td>0</td>\n",
       "      <td>0</td>\n",
       "      <td>1</td>\n",
       "      <td>0</td>\n",
       "      <td>0</td>\n",
       "      <td>0</td>\n",
       "      <td>1</td>\n",
       "      <td>0</td>\n",
       "      <td>1</td>\n",
       "      <td>0</td>\n",
       "    </tr>\n",
       "    <tr>\n",
       "      <th>4</th>\n",
       "      <td>E005</td>\n",
       "      <td>1</td>\n",
       "      <td>0</td>\n",
       "      <td>0</td>\n",
       "      <td>0</td>\n",
       "      <td>1</td>\n",
       "      <td>0</td>\n",
       "      <td>1</td>\n",
       "      <td>0</td>\n",
       "      <td>1</td>\n",
       "      <td>...</td>\n",
       "      <td>0</td>\n",
       "      <td>1</td>\n",
       "      <td>0</td>\n",
       "      <td>0</td>\n",
       "      <td>1</td>\n",
       "      <td>1</td>\n",
       "      <td>1</td>\n",
       "      <td>0</td>\n",
       "      <td>0</td>\n",
       "      <td>0</td>\n",
       "    </tr>\n",
       "  </tbody>\n",
       "</table>\n",
       "<p>5 rows × 2001 columns</p>\n",
       "</div>"
      ]
     },
     "execution_count": 24,
     "metadata": {},
     "output_type": "execute_result"
    }
   ],
   "execution_count": 24
  },
  {
   "metadata": {
    "ExecuteTime": {
     "end_time": "2025-06-17T03:53:29.340882Z",
     "start_time": "2025-06-17T03:53:29.332479Z"
    }
   },
   "cell_type": "code",
   "source": [
    "def prepare_full_employee_data(data):\n",
    "    \"\"\"\n",
    "    Prepare the full employee dataset for clustering (not by department).\n",
    "\n",
    "    Args:\n",
    "        data: DataFrame with employee_id, ENT001-ENT999, metadata columns\n",
    "\n",
    "    Returns:\n",
    "        X: Feature matrix (entitlement columns only)\n",
    "        feature_cols: List of entitlement column names\n",
    "        metadata: DataFrame with employee metadata\n",
    "    \"\"\"\n",
    "    print(\"📊 Preparing full employee dataset for clustering...\")\n",
    "\n",
    "    # Identify entitlement columns efficiently\n",
    "    entitlement_cols = [col for col in data.columns if col.startswith('ENT') and len(col) == 6 and col[3:].isdigit()]\n",
    "    entitlement_cols.sort()\n",
    "\n",
    "    # Metadata columns to preserve\n",
    "    metadata_cols = ['employee_id', 'department_id', 'manager_id', 'name_department',\n",
    "                    'function', 'avg_risk', 'max_risk', 'total_entitlements',\n",
    "                    'avg_criticality', 'max_criticality']\n",
    "    metadata_cols = [col for col in metadata_cols if col in data.columns]\n",
    "\n",
    "    print(f\"✅ Found {len(entitlement_cols)} entitlement columns\")\n",
    "    print(f\"✅ Processing {len(data)} employees\")\n",
    "\n",
    "    # Efficient extraction using numpy\n",
    "    X = data[entitlement_cols].values.astype(np.float32)  # Use float32 for memory efficiency\n",
    "    metadata = data[metadata_cols]\n",
    "\n",
    "    return X, entitlement_cols, metadata\n",
    "\n",
    "def find_optimal_k_efficient(X, k_range=None, max_k=15):\n",
    "    \"\"\"\n",
    "    Efficiently find optimal k using silhouette score with optimized computation.\n",
    "\n",
    "    Args:\n",
    "        X: Feature matrix\n",
    "        k_range: List of k values to test\n",
    "        max_k: Maximum k to test\n",
    "\n",
    "    Returns:\n",
    "        Dict with results and best k\n",
    "    \"\"\"\n",
    "    print(\"🔍 Finding optimal k using efficient silhouette analysis...\")\n",
    "\n",
    "    # Scale features once\n",
    "    scaler = StandardScaler()\n",
    "    X_scaled = scaler.fit_transform(X).astype(np.float32)\n",
    "\n",
    "    # Determine k range\n",
    "    if k_range is None:\n",
    "        max_k = min(max_k, int(np.sqrt(len(X))))  # Rule of thumb: sqrt(n)\n",
    "        k_range = range(2, max_k + 1)\n",
    "\n",
    "    results = {\n",
    "        'k_values': [],\n",
    "        'silhouette_scores': [],\n",
    "        'cluster_labels': {},\n",
    "        'best_k': None,\n",
    "        'best_silhouette': -1\n",
    "    }\n",
    "\n",
    "    for k in k_range:\n",
    "        print(f\"  Testing k={k}...\", end='')\n",
    "\n",
    "        # K-means with optimized parameters\n",
    "        kmeans = KMeans(\n",
    "            n_clusters=k,\n",
    "            random_state=42,\n",
    "            n_init=5,  # Reduced for speed\n",
    "            max_iter=100,  # Usually converges faster\n",
    "            algorithm='elkan'  # Faster for well-separated clusters\n",
    "        )\n",
    "\n",
    "        labels = kmeans.fit_predict(X_scaled)\n",
    "\n",
    "        # Calculate silhouette score\n",
    "        if len(np.unique(labels)) > 1:\n",
    "            # Sample for large datasets to speed up silhouette calculation\n",
    "            if len(X) > 5000:\n",
    "                sample_size = min(5000, len(X))\n",
    "                sample_indices = np.random.choice(len(X), sample_size, replace=False)\n",
    "                sil_score = silhouette_score(X_scaled[sample_indices], labels[sample_indices])\n",
    "            else:\n",
    "                sil_score = silhouette_score(X_scaled, labels)\n",
    "        else:\n",
    "            sil_score = -1\n",
    "\n",
    "        results['k_values'].append(k)\n",
    "        results['silhouette_scores'].append(sil_score)\n",
    "        results['cluster_labels'][k] = labels\n",
    "\n",
    "        print(f\" Silhouette: {sil_score:.4f}\")\n",
    "\n",
    "        # Update best\n",
    "        if sil_score > results['best_silhouette']:\n",
    "            results['best_k'] = k\n",
    "            results['best_silhouette'] = sil_score\n",
    "\n",
    "    print(f\"\\n✅ Optimal k = {results['best_k']} with silhouette score = {results['best_silhouette']:.4f}\")\n",
    "\n",
    "    return results, scaler\n",
    "\n"
   ],
   "id": "d3861fa6cc9c26c9",
   "outputs": [],
   "execution_count": 25
  },
  {
   "metadata": {
    "ExecuteTime": {
     "end_time": "2025-06-17T03:53:30.336832Z",
     "start_time": "2025-06-17T03:53:30.318508Z"
    }
   },
   "cell_type": "code",
   "source": [
    "def clean_full_dataset_toxic_combinations(data, toxic_combinations):\n",
    "    \"\"\"\n",
    "    Efficiently clean the full dataset by removing toxic entitlements.\n",
    "\n",
    "    Args:\n",
    "        data: Original DataFrame\n",
    "        toxic_combinations: Dict from load_toxic_combinations_from_single_file\n",
    "\n",
    "    Returns:\n",
    "        cleaned_data: DataFrame with toxic entitlements removed\n",
    "        removal_stats: Statistics about removals\n",
    "    \"\"\"\n",
    "    print(\"🧹 Cleaning full dataset by removing toxic entitlements...\")\n",
    "\n",
    "    cleaned_data = data.copy()\n",
    "    removal_stats = {\n",
    "        'total_removals': 0,\n",
    "        'employees_affected': set(),\n",
    "        'departments_affected': {},\n",
    "        'entitlements_removed': set()\n",
    "    }\n",
    "\n",
    "    # Process each department's toxic combinations\n",
    "    for dept, dept_toxic in toxic_combinations.items():\n",
    "        if 'name_department' not in cleaned_data.columns:\n",
    "            print(f\"⚠️  No department column found, treating all as one department\")\n",
    "            dept_mask = np.ones(len(cleaned_data), dtype=bool)\n",
    "        else:\n",
    "            dept_mask = cleaned_data['name_department'] == dept\n",
    "\n",
    "        dept_indices = np.where(dept_mask)[0]\n",
    "\n",
    "        if len(dept_indices) == 0:\n",
    "            continue\n",
    "\n",
    "        print(f\"  Processing {dept}: {len(dept_toxic)} toxic pairs\")\n",
    "        dept_removals = 0\n",
    "\n",
    "        # Vectorized processing for efficiency\n",
    "        for (ent1, ent2), entitlement_to_remove in dept_toxic.items():\n",
    "            if all(col in cleaned_data.columns for col in [ent1, ent2, entitlement_to_remove]):\n",
    "                # Find employees with both entitlements using numpy\n",
    "                both_mask = (\n",
    "                    (cleaned_data[ent1].values == 1) &\n",
    "                    (cleaned_data[ent2].values == 1) &\n",
    "                    dept_mask\n",
    "                )\n",
    "\n",
    "                affected_indices = np.where(both_mask)[0]\n",
    "\n",
    "                if len(affected_indices) > 0:\n",
    "                    # Vectorized removal\n",
    "                    cleaned_data.iloc[affected_indices, cleaned_data.columns.get_loc(entitlement_to_remove)] = 0\n",
    "\n",
    "                    dept_removals += len(affected_indices)\n",
    "                    removal_stats['employees_affected'].update(\n",
    "                        cleaned_data.iloc[affected_indices]['employee_id'].values\n",
    "                    )\n",
    "                    removal_stats['entitlements_removed'].add(entitlement_to_remove)\n",
    "\n",
    "        removal_stats['departments_affected'][dept] = dept_removals\n",
    "        removal_stats['total_removals'] += dept_removals\n",
    "\n",
    "    # Update total_entitlements column if exists\n",
    "    if 'total_entitlements' in cleaned_data.columns:\n",
    "        entitlement_cols = [col for col in cleaned_data.columns if col.startswith('ENT') and col[3:].isdigit()]\n",
    "        cleaned_data['total_entitlements'] = cleaned_data[entitlement_cols].sum(axis=1)\n",
    "\n",
    "    print(f\"\\n✅ Cleaning complete:\")\n",
    "    print(f\"   Total removals: {removal_stats['total_removals']}\")\n",
    "    print(f\"   Employees affected: {len(removal_stats['employees_affected'])}\")\n",
    "    print(f\"   Unique entitlements removed: {len(removal_stats['entitlements_removed'])}\")\n",
    "\n",
    "    return cleaned_data, removal_stats\n",
    "\n"
   ],
   "id": "87c9033784645c1f",
   "outputs": [],
   "execution_count": 26
  },
  {
   "metadata": {
    "ExecuteTime": {
     "end_time": "2025-06-17T03:53:31.031587Z",
     "start_time": "2025-06-17T03:53:31.018500Z"
    }
   },
   "cell_type": "code",
   "source": [
    "def create_3d_comparison_plot(X_original, X_cleaned, labels_original, labels_cleaned,\n",
    "                            metadata, results_original, results_cleaned, removal_stats):\n",
    "    \"\"\"\n",
    "    Create an efficient side-by-side 3D PCA comparison plot.\n",
    "    \"\"\"\n",
    "    print(\"🎨 Creating 3D comparison visualization...\")\n",
    "\n",
    "    # Create subplots\n",
    "    fig = make_subplots(\n",
    "        rows=1, cols=2,\n",
    "        subplot_titles=(\n",
    "            f\"Original Data (k={results_original['best_k']}, Silhouette={results_original['best_silhouette']:.3f})\",\n",
    "            f\"Cleaned Data (k={results_cleaned['best_k']}, Silhouette={results_cleaned['best_silhouette']:.3f})\"\n",
    "        ),\n",
    "        specs=[[{'type': 'scatter3d'}, {'type': 'scatter3d'}]],\n",
    "        horizontal_spacing=0.05\n",
    "    )\n",
    "\n",
    "    # Colors\n",
    "    colors = ['#FF6B6B', '#4ECDC4', '#45B7D1', '#FFA07A', '#98D8C8',\n",
    "              '#F7DC6F', '#BB8FCE', '#85C1E2', '#F8B739', '#82E0AA']\n",
    "\n",
    "    # Process both datasets\n",
    "    datasets = [\n",
    "        (X_original, labels_original, \"Original\", 1),\n",
    "        (X_cleaned, labels_cleaned, \"Cleaned\", 2)\n",
    "    ]\n",
    "\n",
    "    for X, labels, name, col in datasets:\n",
    "        # PCA with optimized components\n",
    "        n_components = min(3, X.shape[0] - 1, X.shape[1])\n",
    "        pca = PCA(n_components=n_components, svd_solver='randomized')  # Faster for large datasets\n",
    "\n",
    "        # Scale and transform\n",
    "        scaler = StandardScaler()\n",
    "        X_scaled = scaler.fit_transform(X)\n",
    "        X_pca = pca.fit_transform(X_scaled)\n",
    "\n",
    "        # Pad if needed\n",
    "        if n_components < 3:\n",
    "            X_pca = np.pad(X_pca, ((0, 0), (0, 3 - n_components)), mode='constant')\n",
    "\n",
    "        # Add traces for each cluster\n",
    "        unique_labels = np.unique(labels)\n",
    "\n",
    "        for cluster_id in unique_labels:\n",
    "            mask = labels == cluster_id\n",
    "\n",
    "            # Downsample for visualization if too many points\n",
    "            indices = np.where(mask)[0]\n",
    "            if len(indices) > 1000:\n",
    "                indices = np.random.choice(indices, 1000, replace=False)\n",
    "\n",
    "            # Create hover text for sample\n",
    "            hover_texts = []\n",
    "            for idx in indices[:100]:  # Limit hover text for performance\n",
    "                dept = metadata.iloc[idx].get('name_department', 'Unknown')\n",
    "                risk = metadata.iloc[idx].get('avg_risk', 0)\n",
    "                hover_texts.append(f\"Cluster {cluster_id}<br>Dept: {dept}<br>Risk: {risk:.3f}\")\n",
    "\n",
    "            fig.add_trace(\n",
    "                go.Scatter3d(\n",
    "                    x=X_pca[indices, 0],\n",
    "                    y=X_pca[indices, 1],\n",
    "                    z=X_pca[indices, 2],\n",
    "                    mode='markers',\n",
    "                    marker=dict(\n",
    "                        color=colors[cluster_id % len(colors)],\n",
    "                        size=4,\n",
    "                        opacity=0.6\n",
    "                    ),\n",
    "                    name=f'{name} C{cluster_id} ({mask.sum()})',\n",
    "                    text=hover_texts[:len(indices)],\n",
    "                    hovertemplate='%{text}<extra></extra>',\n",
    "                    showlegend=(col == 1)\n",
    "                ),\n",
    "                row=1, col=col\n",
    "            )\n",
    "\n",
    "    # Update layout\n",
    "    fig.update_layout(\n",
    "        title={\n",
    "            'text': f'Full Employee Clustering: {removal_stats[\"total_removals\"]} Toxic Entitlements Removed<br>' +\n",
    "                   f'<sup>Silhouette Improvement: {results_cleaned[\"best_silhouette\"] - results_original[\"best_silhouette\"]:+.3f}</sup>',\n",
    "            'x': 0.5,\n",
    "            'xanchor': 'center'\n",
    "        },\n",
    "        template='plotly_dark',\n",
    "        height=700,\n",
    "        width=1400,\n",
    "        showlegend=True,\n",
    "        legend=dict(x=1.02, y=0.5)\n",
    "    )\n",
    "\n",
    "    # Update 3D scene layouts\n",
    "    for i in range(1, 3):\n",
    "        fig.update_scenes(\n",
    "            dict(\n",
    "                xaxis=dict(title='PC1', gridcolor='gray', showbackground=False),\n",
    "                yaxis=dict(title='PC2', gridcolor='gray', showbackground=False),\n",
    "                zaxis=dict(title='PC3', gridcolor='gray', showbackground=False),\n",
    "                camera=dict(eye=dict(x=1.5, y=1.5, z=1.5))\n",
    "            ),\n",
    "            row=1, col=i\n",
    "        )\n",
    "\n",
    "    return fig\n",
    "\n"
   ],
   "id": "4d89db567d16a22f",
   "outputs": [],
   "execution_count": 27
  },
  {
   "metadata": {
    "ExecuteTime": {
     "end_time": "2025-06-17T03:53:32.213637Z",
     "start_time": "2025-06-17T03:53:32.206510Z"
    }
   },
   "cell_type": "code",
   "source": [
    "def run_efficient_full_clustering_analysis(data, toxic_combinations_path=None, k_range=None):\n",
    "    \"\"\"\n",
    "    Efficient full employee clustering analysis with before/after toxic removal comparison.\n",
    "\n",
    "    Args:\n",
    "        data: Full employee DataFrame (already binarized with ENT columns)\n",
    "        toxic_combinations_path: Path to toxic combinations file\n",
    "        k_range: Optional list of k values to test\n",
    "\n",
    "    Returns:\n",
    "        Dict with all results and visualizations\n",
    "    \"\"\"\n",
    "    print(\"🚀 Starting efficient full employee clustering analysis\")\n",
    "    print(\"=\" * 70)\n",
    "\n",
    "    # Load toxic combinations if path provided\n",
    "    if toxic_combinations_path:\n",
    "        from clustering_pre_post_toxicdetection import load_toxic_combinations_from_single_file\n",
    "        toxic_combinations = load_toxic_combinations_from_single_file(toxic_combinations_path)\n",
    "    else:\n",
    "        print(\"⚠️  No toxic combinations path provided, using empty dict\")\n",
    "        toxic_combinations = {}\n",
    "\n",
    "    # Step 1: Prepare original data\n",
    "    print(\"\\n1️⃣ Preparing original data\")\n",
    "    X_original, feature_cols, metadata = prepare_full_employee_data(data)\n",
    "\n",
    "    # Step 2: Find optimal k for original\n",
    "    print(\"\\n2️⃣ Finding optimal k for original data\")\n",
    "    results_original, scaler_original = find_optimal_k_efficient(X_original, k_range)\n",
    "\n",
    "    # Step 3: Clean data\n",
    "    print(\"\\n3️⃣ Cleaning data\")\n",
    "    if toxic_combinations:\n",
    "        cleaned_data, removal_stats = clean_full_dataset_toxic_combinations(data, toxic_combinations)\n",
    "    else:\n",
    "        cleaned_data = data.copy()\n",
    "        removal_stats = {'total_removals': 0, 'employees_affected': set()}\n",
    "\n",
    "    # Step 4: Prepare cleaned data\n",
    "    print(\"\\n4️⃣ Preparing cleaned data\")\n",
    "    X_cleaned, _, _ = prepare_full_employee_data(cleaned_data)\n",
    "\n",
    "    # Step 5: Find optimal k for cleaned\n",
    "    print(\"\\n5️⃣ Finding optimal k for cleaned data\")\n",
    "    results_cleaned, scaler_cleaned = find_optimal_k_efficient(X_cleaned, k_range)\n",
    "\n",
    "    # Get optimal labels\n",
    "    labels_original = results_original['cluster_labels'][results_original['best_k']]\n",
    "    labels_cleaned = results_cleaned['cluster_labels'][results_cleaned['best_k']]\n",
    "\n",
    "    # Step 6: Create visualization\n",
    "    print(\"\\n6️⃣ Creating comparison visualization\")\n",
    "    fig_comparison = create_3d_comparison_plot(\n",
    "        X_original, X_cleaned, labels_original, labels_cleaned,\n",
    "        metadata, results_original, results_cleaned, removal_stats\n",
    "    )\n",
    "\n",
    "    # Summary\n",
    "    improvement = results_cleaned['best_silhouette'] - results_original['best_silhouette']\n",
    "\n",
    "    print(\"\\n\" + \"=\" * 70)\n",
    "    print(\"📊 ANALYSIS SUMMARY:\")\n",
    "    print(f\"Original Data:\")\n",
    "    print(f\"  - Optimal k: {results_original['best_k']}\")\n",
    "    print(f\"  - Silhouette: {results_original['best_silhouette']:.4f}\")\n",
    "    print(f\"Cleaned Data:\")\n",
    "    print(f\"  - Optimal k: {results_cleaned['best_k']}\")\n",
    "    print(f\"  - Silhouette: {results_cleaned['best_silhouette']:.4f}\")\n",
    "    print(f\"Improvement: {improvement:+.4f} ({improvement/results_original['best_silhouette']*100:+.1f}%)\")\n",
    "    print(\"=\" * 70)\n",
    "\n",
    "    return {\n",
    "        'original': {\n",
    "            'X': X_original,\n",
    "            'results': results_original,\n",
    "            'labels': labels_original,\n",
    "            'scaler': scaler_original\n",
    "        },\n",
    "        'cleaned': {\n",
    "            'X': X_cleaned,\n",
    "            'results': results_cleaned,\n",
    "            'labels': labels_cleaned,\n",
    "            'scaler': scaler_cleaned,\n",
    "            'data': cleaned_data\n",
    "        },\n",
    "        'comparison': {\n",
    "            'figure': fig_comparison,\n",
    "            'improvement': improvement,\n",
    "            'removal_stats': removal_stats\n",
    "        },\n",
    "        'metadata': metadata,\n",
    "        'feature_cols': feature_cols\n",
    "    }\n",
    "\n"
   ],
   "id": "d3f218ff0be7fdf",
   "outputs": [],
   "execution_count": 28
  },
  {
   "metadata": {
    "ExecuteTime": {
     "end_time": "2025-06-17T03:53:32.914021Z",
     "start_time": "2025-06-17T03:53:32.910744Z"
    }
   },
   "cell_type": "code",
   "source": [
    "def analyze_full_employee_clustering(data, toxic_combinations_path=\"department_anomaly_results/all_departments_combined.csv\"):\n",
    "    \"\"\"\n",
    "    Quick function to run the analysis with your data structure.\n",
    "\n",
    "    Usage:\n",
    "        results = analyze_full_employee_clustering(data)\n",
    "        results['comparison']['figure'].show()\n",
    "    \"\"\"\n",
    "    # If data is not binarized, you'll need to binarize it first\n",
    "    if 'ENT001' not in data.columns:\n",
    "        print(\"⚠️  Data doesn't appear to be binarized. Please binarize first.\")\n",
    "        return None\n",
    "\n",
    "    return run_efficient_full_clustering_analysis(data, toxic_combinations_path)\n"
   ],
   "id": "161f413482969bc2",
   "outputs": [],
   "execution_count": 29
  },
  {
   "metadata": {
    "ExecuteTime": {
     "end_time": "2025-06-17T03:54:09.651558Z",
     "start_time": "2025-06-17T03:53:44.613303Z"
    }
   },
   "cell_type": "code",
   "source": "results = analyze_full_employee_clustering(binarized_df)",
   "id": "e65d7e903c826a42",
   "outputs": [
    {
     "name": "stdout",
     "output_type": "stream",
     "text": [
      "🚀 Starting efficient full employee clustering analysis\n",
      "======================================================================\n",
      "🔍 Loading toxic combinations from single file: 'department_anomaly_results/all_departments_combined.csv'...\n",
      "📊 Loaded 204814 combinations from all_departments_combined.csv\n",
      "📋 Columns: ['combination_id', 'entitlement_1', 'entitlement_2', 'entitlement_1_name', 'entitlement_2_name', 'frequency', 'log_frequency', 'is_rare', 'max_risk', 'min_risk', 'avg_risk', 'risk_difference', 'both_high_risk', 'max_criticality', 'avg_criticality', 'same_application', 'same_type', 'same_function', 'cross_function_high_risk', 'combined_risk_score', 'cluster', 'distance_to_center', 'is_anomaly', 'anomaly_score', 'batch_id', 'processing_timestamp', 'department', 'department_employees', 'department_entitlements', 'toxic']\n",
      "✅ Using 'department' as department column\n",
      "  🔄 Processing Accounting...\n",
      "    🚨 Found 122 TOXIC combinations (anomalous + same app)\n",
      "    ✅ Accounting: 122 toxic entitlement pairs to clean\n",
      "  🔄 Processing Application Development...\n",
      "    🚨 Found 154 TOXIC combinations (anomalous + same app)\n",
      "    ✅ Application Development: 154 toxic entitlement pairs to clean\n",
      "  🔄 Processing Credit Risk...\n",
      "    🚨 Found 153 TOXIC combinations (anomalous + same app)\n",
      "    ✅ Credit Risk: 153 toxic entitlement pairs to clean\n",
      "  🔄 Processing Data Management...\n",
      "    🚨 Found 129 TOXIC combinations (anomalous + same app)\n",
      "    ✅ Data Management: 129 toxic entitlement pairs to clean\n",
      "  🔄 Processing Finance...\n",
      "    🚨 Found 153 TOXIC combinations (anomalous + same app)\n",
      "    ✅ Finance: 153 toxic entitlement pairs to clean\n",
      "  🔄 Processing Financial Planning...\n",
      "    🚨 Found 152 TOXIC combinations (anomalous + same app)\n",
      "    ✅ Financial Planning: 152 toxic entitlement pairs to clean\n",
      "  🔄 Processing Human Resources...\n",
      "    🚨 Found 119 TOXIC combinations (anomalous + same app)\n",
      "    ✅ Human Resources: 119 toxic entitlement pairs to clean\n",
      "  🔄 Processing Information Technology...\n",
      "    🚨 Found 160 TOXIC combinations (anomalous + same app)\n",
      "    ✅ Information Technology: 160 toxic entitlement pairs to clean\n",
      "  🔄 Processing Infrastructure...\n",
      "    🚨 Found 161 TOXIC combinations (anomalous + same app)\n",
      "    ✅ Infrastructure: 161 toxic entitlement pairs to clean\n",
      "  🔄 Processing Market Risk...\n",
      "    🚨 Found 122 TOXIC combinations (anomalous + same app)\n",
      "    ✅ Market Risk: 122 toxic entitlement pairs to clean\n",
      "  🔄 Processing Operations...\n",
      "    🚨 Found 129 TOXIC combinations (anomalous + same app)\n",
      "    ✅ Operations: 129 toxic entitlement pairs to clean\n",
      "  🔄 Processing Recruitment...\n",
      "    🚨 Found 184 TOXIC combinations (anomalous + same app)\n",
      "    ✅ Recruitment: 184 toxic entitlement pairs to clean\n",
      "  🔄 Processing Risk Management...\n",
      "    🚨 Found 125 TOXIC combinations (anomalous + same app)\n",
      "    ✅ Risk Management: 125 toxic entitlement pairs to clean\n",
      "  🔄 Processing Security...\n",
      "    🚨 Found 157 TOXIC combinations (anomalous + same app)\n",
      "    ✅ Security: 157 toxic entitlement pairs to clean\n",
      "  🔄 Processing Treasury...\n",
      "    🚨 Found 135 TOXIC combinations (anomalous + same app)\n",
      "    ✅ Treasury: 135 toxic entitlement pairs to clean\n",
      "🎉 Loaded toxic combinations for 15 departments\n",
      "\n",
      "1️⃣ Preparing original data\n",
      "📊 Preparing full employee dataset for clustering...\n",
      "✅ Found 999 entitlement columns\n",
      "✅ Processing 1000 employees\n",
      "\n",
      "2️⃣ Finding optimal k for original data\n",
      "🔍 Finding optimal k using efficient silhouette analysis...\n",
      "  Testing k=2... Silhouette: 0.1421\n",
      "  Testing k=3... Silhouette: 0.1418\n",
      "  Testing k=4... Silhouette: -0.0062\n",
      "  Testing k=5... Silhouette: -0.0052\n",
      "  Testing k=6... Silhouette: 0.1394\n",
      "  Testing k=7... Silhouette: 0.1365\n",
      "  Testing k=8... Silhouette: -0.0102\n",
      "  Testing k=9... Silhouette: -0.0076\n",
      "  Testing k=10... Silhouette: -0.0163\n",
      "  Testing k=11... Silhouette: -0.0093\n",
      "  Testing k=12... Silhouette: -0.0156\n",
      "  Testing k=13... Silhouette: -0.0129\n",
      "  Testing k=14... Silhouette: -0.0118\n",
      "  Testing k=15... Silhouette: -0.0139\n",
      "\n",
      "✅ Optimal k = 2 with silhouette score = 0.1421\n",
      "\n",
      "3️⃣ Cleaning data\n",
      "🧹 Cleaning full dataset by removing toxic entitlements...\n",
      "⚠️  No department column found, treating all as one department\n",
      "  Processing Accounting: 122 toxic pairs\n",
      "⚠️  No department column found, treating all as one department\n",
      "  Processing Application Development: 154 toxic pairs\n",
      "⚠️  No department column found, treating all as one department\n",
      "  Processing Credit Risk: 153 toxic pairs\n",
      "⚠️  No department column found, treating all as one department\n",
      "  Processing Data Management: 129 toxic pairs\n",
      "⚠️  No department column found, treating all as one department\n",
      "  Processing Finance: 153 toxic pairs\n",
      "⚠️  No department column found, treating all as one department\n",
      "  Processing Financial Planning: 152 toxic pairs\n",
      "⚠️  No department column found, treating all as one department\n",
      "  Processing Human Resources: 119 toxic pairs\n",
      "⚠️  No department column found, treating all as one department\n",
      "  Processing Information Technology: 160 toxic pairs\n",
      "⚠️  No department column found, treating all as one department\n",
      "  Processing Infrastructure: 161 toxic pairs\n",
      "⚠️  No department column found, treating all as one department\n",
      "  Processing Market Risk: 122 toxic pairs\n",
      "⚠️  No department column found, treating all as one department\n",
      "  Processing Operations: 129 toxic pairs\n",
      "⚠️  No department column found, treating all as one department\n",
      "  Processing Recruitment: 184 toxic pairs\n",
      "⚠️  No department column found, treating all as one department\n",
      "  Processing Risk Management: 125 toxic pairs\n",
      "⚠️  No department column found, treating all as one department\n",
      "  Processing Security: 157 toxic pairs\n",
      "⚠️  No department column found, treating all as one department\n",
      "  Processing Treasury: 135 toxic pairs\n",
      "\n",
      "✅ Cleaning complete:\n",
      "   Total removals: 105325\n",
      "   Employees affected: 1000\n",
      "   Unique entitlements removed: 984\n",
      "\n",
      "4️⃣ Preparing cleaned data\n",
      "📊 Preparing full employee dataset for clustering...\n",
      "✅ Found 999 entitlement columns\n",
      "✅ Processing 1000 employees\n",
      "\n",
      "5️⃣ Finding optimal k for cleaned data\n",
      "🔍 Finding optimal k using efficient silhouette analysis...\n",
      "  Testing k=2... Silhouette: 0.0956\n",
      "  Testing k=3... Silhouette: 0.0991\n",
      "  Testing k=4... Silhouette: -0.0349\n",
      "  Testing k=5... Silhouette: -0.0061\n",
      "  Testing k=6... Silhouette: 0.0481\n",
      "  Testing k=7... Silhouette: -0.0342\n",
      "  Testing k=8... Silhouette: -0.0362\n",
      "  Testing k=9... Silhouette: -0.0331\n",
      "  Testing k=10... Silhouette: -0.0335\n",
      "  Testing k=11... Silhouette: -0.0330\n",
      "  Testing k=12... Silhouette: -0.0067\n",
      "  Testing k=13... Silhouette: -0.0327\n",
      "  Testing k=14... Silhouette: -0.0331\n",
      "  Testing k=15... Silhouette: -0.0138\n",
      "\n",
      "✅ Optimal k = 3 with silhouette score = 0.0991\n",
      "\n",
      "6️⃣ Creating comparison visualization\n",
      "🎨 Creating 3D comparison visualization...\n",
      "\n",
      "======================================================================\n",
      "📊 ANALYSIS SUMMARY:\n",
      "Original Data:\n",
      "  - Optimal k: 2\n",
      "  - Silhouette: 0.1421\n",
      "Cleaned Data:\n",
      "  - Optimal k: 3\n",
      "  - Silhouette: 0.0991\n",
      "Improvement: -0.0429 (-30.2%)\n",
      "======================================================================\n"
     ]
    }
   ],
   "execution_count": 30
  },
  {
   "metadata": {
    "ExecuteTime": {
     "end_time": "2025-06-17T03:55:06.274460Z",
     "start_time": "2025-06-17T03:55:06.065367Z"
    }
   },
   "cell_type": "code",
   "source": "results['comparison']['figure'].show()",
   "id": "b1641efae688ec79",
   "outputs": [
    {
     "data": {
      "application/vnd.plotly.v1+json": {
       "data": [
        {
         "hovertemplate": "%{text}<extra></extra>",
         "marker": {
          "color": "#FF6B6B",
          "opacity": 0.6,
          "size": 4
         },
         "mode": "markers",
         "name": "Original C0 (363)",
         "showlegend": true,
         "text": [
          "Cluster 0<br>Dept: Unknown<br>Risk: 0.000",
          "Cluster 0<br>Dept: Unknown<br>Risk: 0.000",
          "Cluster 0<br>Dept: Unknown<br>Risk: 0.000",
          "Cluster 0<br>Dept: Unknown<br>Risk: 0.000",
          "Cluster 0<br>Dept: Unknown<br>Risk: 0.000",
          "Cluster 0<br>Dept: Unknown<br>Risk: 0.000",
          "Cluster 0<br>Dept: Unknown<br>Risk: 0.000",
          "Cluster 0<br>Dept: Unknown<br>Risk: 0.000",
          "Cluster 0<br>Dept: Unknown<br>Risk: 0.000",
          "Cluster 0<br>Dept: Unknown<br>Risk: 0.000",
          "Cluster 0<br>Dept: Unknown<br>Risk: 0.000",
          "Cluster 0<br>Dept: Unknown<br>Risk: 0.000",
          "Cluster 0<br>Dept: Unknown<br>Risk: 0.000",
          "Cluster 0<br>Dept: Unknown<br>Risk: 0.000",
          "Cluster 0<br>Dept: Unknown<br>Risk: 0.000",
          "Cluster 0<br>Dept: Unknown<br>Risk: 0.000",
          "Cluster 0<br>Dept: Unknown<br>Risk: 0.000",
          "Cluster 0<br>Dept: Unknown<br>Risk: 0.000",
          "Cluster 0<br>Dept: Unknown<br>Risk: 0.000",
          "Cluster 0<br>Dept: Unknown<br>Risk: 0.000",
          "Cluster 0<br>Dept: Unknown<br>Risk: 0.000",
          "Cluster 0<br>Dept: Unknown<br>Risk: 0.000",
          "Cluster 0<br>Dept: Unknown<br>Risk: 0.000",
          "Cluster 0<br>Dept: Unknown<br>Risk: 0.000",
          "Cluster 0<br>Dept: Unknown<br>Risk: 0.000",
          "Cluster 0<br>Dept: Unknown<br>Risk: 0.000",
          "Cluster 0<br>Dept: Unknown<br>Risk: 0.000",
          "Cluster 0<br>Dept: Unknown<br>Risk: 0.000",
          "Cluster 0<br>Dept: Unknown<br>Risk: 0.000",
          "Cluster 0<br>Dept: Unknown<br>Risk: 0.000",
          "Cluster 0<br>Dept: Unknown<br>Risk: 0.000",
          "Cluster 0<br>Dept: Unknown<br>Risk: 0.000",
          "Cluster 0<br>Dept: Unknown<br>Risk: 0.000",
          "Cluster 0<br>Dept: Unknown<br>Risk: 0.000",
          "Cluster 0<br>Dept: Unknown<br>Risk: 0.000",
          "Cluster 0<br>Dept: Unknown<br>Risk: 0.000",
          "Cluster 0<br>Dept: Unknown<br>Risk: 0.000",
          "Cluster 0<br>Dept: Unknown<br>Risk: 0.000",
          "Cluster 0<br>Dept: Unknown<br>Risk: 0.000",
          "Cluster 0<br>Dept: Unknown<br>Risk: 0.000",
          "Cluster 0<br>Dept: Unknown<br>Risk: 0.000",
          "Cluster 0<br>Dept: Unknown<br>Risk: 0.000",
          "Cluster 0<br>Dept: Unknown<br>Risk: 0.000",
          "Cluster 0<br>Dept: Unknown<br>Risk: 0.000",
          "Cluster 0<br>Dept: Unknown<br>Risk: 0.000",
          "Cluster 0<br>Dept: Unknown<br>Risk: 0.000",
          "Cluster 0<br>Dept: Unknown<br>Risk: 0.000",
          "Cluster 0<br>Dept: Unknown<br>Risk: 0.000",
          "Cluster 0<br>Dept: Unknown<br>Risk: 0.000",
          "Cluster 0<br>Dept: Unknown<br>Risk: 0.000",
          "Cluster 0<br>Dept: Unknown<br>Risk: 0.000",
          "Cluster 0<br>Dept: Unknown<br>Risk: 0.000",
          "Cluster 0<br>Dept: Unknown<br>Risk: 0.000",
          "Cluster 0<br>Dept: Unknown<br>Risk: 0.000",
          "Cluster 0<br>Dept: Unknown<br>Risk: 0.000",
          "Cluster 0<br>Dept: Unknown<br>Risk: 0.000",
          "Cluster 0<br>Dept: Unknown<br>Risk: 0.000",
          "Cluster 0<br>Dept: Unknown<br>Risk: 0.000",
          "Cluster 0<br>Dept: Unknown<br>Risk: 0.000",
          "Cluster 0<br>Dept: Unknown<br>Risk: 0.000",
          "Cluster 0<br>Dept: Unknown<br>Risk: 0.000",
          "Cluster 0<br>Dept: Unknown<br>Risk: 0.000",
          "Cluster 0<br>Dept: Unknown<br>Risk: 0.000",
          "Cluster 0<br>Dept: Unknown<br>Risk: 0.000",
          "Cluster 0<br>Dept: Unknown<br>Risk: 0.000",
          "Cluster 0<br>Dept: Unknown<br>Risk: 0.000",
          "Cluster 0<br>Dept: Unknown<br>Risk: 0.000",
          "Cluster 0<br>Dept: Unknown<br>Risk: 0.000",
          "Cluster 0<br>Dept: Unknown<br>Risk: 0.000",
          "Cluster 0<br>Dept: Unknown<br>Risk: 0.000",
          "Cluster 0<br>Dept: Unknown<br>Risk: 0.000",
          "Cluster 0<br>Dept: Unknown<br>Risk: 0.000",
          "Cluster 0<br>Dept: Unknown<br>Risk: 0.000",
          "Cluster 0<br>Dept: Unknown<br>Risk: 0.000",
          "Cluster 0<br>Dept: Unknown<br>Risk: 0.000",
          "Cluster 0<br>Dept: Unknown<br>Risk: 0.000",
          "Cluster 0<br>Dept: Unknown<br>Risk: 0.000",
          "Cluster 0<br>Dept: Unknown<br>Risk: 0.000",
          "Cluster 0<br>Dept: Unknown<br>Risk: 0.000",
          "Cluster 0<br>Dept: Unknown<br>Risk: 0.000",
          "Cluster 0<br>Dept: Unknown<br>Risk: 0.000",
          "Cluster 0<br>Dept: Unknown<br>Risk: 0.000",
          "Cluster 0<br>Dept: Unknown<br>Risk: 0.000",
          "Cluster 0<br>Dept: Unknown<br>Risk: 0.000",
          "Cluster 0<br>Dept: Unknown<br>Risk: 0.000",
          "Cluster 0<br>Dept: Unknown<br>Risk: 0.000",
          "Cluster 0<br>Dept: Unknown<br>Risk: 0.000",
          "Cluster 0<br>Dept: Unknown<br>Risk: 0.000",
          "Cluster 0<br>Dept: Unknown<br>Risk: 0.000",
          "Cluster 0<br>Dept: Unknown<br>Risk: 0.000",
          "Cluster 0<br>Dept: Unknown<br>Risk: 0.000",
          "Cluster 0<br>Dept: Unknown<br>Risk: 0.000",
          "Cluster 0<br>Dept: Unknown<br>Risk: 0.000",
          "Cluster 0<br>Dept: Unknown<br>Risk: 0.000",
          "Cluster 0<br>Dept: Unknown<br>Risk: 0.000",
          "Cluster 0<br>Dept: Unknown<br>Risk: 0.000",
          "Cluster 0<br>Dept: Unknown<br>Risk: 0.000",
          "Cluster 0<br>Dept: Unknown<br>Risk: 0.000",
          "Cluster 0<br>Dept: Unknown<br>Risk: 0.000",
          "Cluster 0<br>Dept: Unknown<br>Risk: 0.000"
         ],
         "x": {
          "dtype": "f4",
          "bdata": "feAuQZtODUGygDxBwVXwQX8AH0Hxf0JBH8A8QfC/NUHYsRBB2AYqQTGfD0GxnThB6LM3QS68OkEF0TlBNPoxQUOli0Ez1SFB+bc/QZfYEUH7dBlBaGUlQTaqJEGE4xdBk3fzQW1JHkHdlxZBnv0bQQ8fHUGi5zFB8hITQaquFUHCSzFB7F+OQah8J0F1jlhBWWcjQY4TEUFuzxhBgFkeQS9IKUEaKSxBMu45QTIfJUHedTZBs6UzQcTkVUFsvpBBlkfiQA1XNEFgGjJBj3keQYb2K0Ha64pBsweUQd8UIEG39RlBmIEpQetvQUFGOixBT6M1QdG2K0EdYvVBajVxQXe0LEFD7EhB/kIbQQIoikFRz4lBWPQuQYQEMUGGhBlBJwQ3Qd2vB0FmRvpB1aUmQdNS90HPnixB+PZEQTn5K0Fb6R1BPZlGQRHXh0HazBxByYstQZEFAEK80C5B+UIgQQKoMUGK8x9B92A0QTUSMUGUJydBSjCLQTDGKEFVfyhBxmIwQa7sMUH1iiJBniYbQd9Sh0FILCxB46cuQb3mmUHCgS1B4bNCQduwSkEBDZRBQkBFQWffMUHhMStBmnocQY5sLkEHeRNB1Jg0QVU0lEHhcZRBux1PQRaFLUE81jZBnIMeQYEvMUH95jFBkfKIQYpuHkEaZoRBeIY7QdgyOEFyApNBsJb5QSL3FkHc00dBkoogQXQVKkFy+SJBxe8XQfguIEHDQzxBS/GBQUJHNkE4WUZBl1wiQax7BkHWM45B4NxQQWW/JkG0CThBFHo2QafqG0FrCBFBf7p6QeGp7UGXix1BagSMQZmrLEEO7BZBH8ROQXwGgEF9njBBUyI0Qedok0EDaSZBJ/lSQbI/JEGQ74VBXoUwQV29iUFsyhBB7cw/QfTaHUFBk/hB7P9GQTu5LUF3TYdBNrMrQUd1LEFvWy5ByprzQUQsikGhz0RBoCjzQfWlGEFURRZBTDKJQap1EkGmMEhBuy30QQolMkGtThpB/1uLQS6ALkF+lidBjiYxQS/bikFfXCtBLMc3QeIviEHcZUpB72Y0QWvdSUEcqxNBe5A1QdTGi0G5izxBGtwdQQVzHkHQUUBBHWGUQWS2I0G8rzVB8xaJQRGXkEEwXzZB+IQyQU8dPUGy8yVBY7T5Qbd0FkHEOR9BBYicQcLUNEHlj5FB++85QQ4IKkEh9T5B+Q4lQW/EPEEaGShBnT3vQTWtR0HsXTVBQ6kBQq8MgEGLR41BoXIVQS9cLkGQuxpBkkc3QTl680Hi7yNBseoQQZraLEHYJiNBCZE5QUnm+0Hv2C5BzkT/QfzoHkE+aCtBUROOQSSSMEH4wUVB2sg8QQCjIEGHniRBrfkvQVXGLUGXRT5BeisIQS7+LUEHeghBsC4jQRtMhkG/oQ5B0M80QbBxNEEKlZ1BuP4oQSZhL0GyZw1BLT40Qf2IjkF/DexB9zSKQQiB7UGv+oFBZmwwQVygGkElOE9BOJeSQTycQUF0QTFBZIQxQZADKUFEcElBxbhKQVADIUGGTDBBE6guQRKOHUGgiSxBa48kQRxGdEFH5DFBdsVMQcrSHUEl1jxBksooQZ11P0FC4UNBBOojQYHv90G/OyNBpyWSQRXxIkGBdBVBtRwhQVpMNEFaQXtBfqWHQXQ3NUHKgC1BC54uQbdYjkEFaT1ByYocQfi8REF6pgxB3s86QdXkO0FASzhBaS8xQXNvDEF3UoNBKJj1Qb4ROEG/r1FBAZ43QWKUFUFT4R1BUsgUQZLFPkEW+5FBpHUVQW65JUFaSTtBIGwjQZ06LEGn7pJB2FQkQYooIUHjK5NBe5+AQW+VNUGM8jtBAbJGQbEsKkE8GItBUz8zQWbSJEFtlkdBNJCGQVvARUH0qIBB5XvyQWysgUHwrCRBGurxQd5kL0E2OTpBFNkbQeD/EkEYCStB"
         },
         "y": {
          "dtype": "f4",
          "bdata": "ZFOeQFsnsEATMdhA26dNwPz+vUAeDZRAS0bBQHjyrkDgUjxAVKbVQOQeJUA6RrlAv3SxQBZnuEAtKZxA6CijQO+drz9FOb5ALKqPQPs3kEDff7xActu7QFKctkDnUp5ApT8LwKgesEByXJFAt12OQBzusEBXlKhANDKxQKguKEBUaZdAuDOIwUzkhEABTKlAyVDiQD4ta0AjW7RA5h2pQKtbkEBwmX5ARWbMQIuHqEAIYcBAugunQDhvpED+NDxAzIaeQAcMt0B2v5tAvuiKQDSctkD304jBDsSJwf/7qUBk7bhAezReQA1PrkDKtrhAkFi9QNgxskBa2GjA2qp4wTEvjEAt76FA66qMQOOwhcErUxhAROauQKfzmkC9VKBAfAu2QMiEoUBdmonAEzZlQDuxmMDK88xAPxHIQNqdrUCMNW9Ay+lsQCfghcH9PYxAiKWVQC0jSsABfatAQI2WQC1SGECFEsdALopjQE+HikCzc6NAwluGwap8jkDvMbFAJR3QQK0nskA7r8ZAnVbMQEWxhMEdB0JA7GeZQEZlP0BjoI9AmgWKQDForEDGt4fBWhZiQLxanECa4pZAmwWeQP3lsUBMlXdAwwGJQEcjFEC/TYrBJ7OOQH+mjEAs+W5AkZbEQCukukCplKxA8QKHwT7JmEB9+4fBhUMPQMp8lUCbHYrBPylBwEhDuEB8V4hA0KXMQItrm0AB7YpAPQSqQCU3yEBN7bNA5tqCwckJrkAVRNZAghnVQAOISEDMtYnBqgioQBixiUB8c7BAFDsoQPIcn0Bqf4dA2QeEwcK4xsDjYitATDiKwX8e2ECesYJA76mQQMUSg8Fwk6pAen+CQM0wiMF20KFAGrqpQH06bkBznYbBwteZQBPQhcFM2IpAdqWiQBa2xUDCLKXABRKnQDr3bUDh7IPBYxtHQFN7pkBGNFpA3UuCwC+7hcF9SZ5ACEaSwPZ6uEDbIaVA9PCBwYPtq0A3TIBAnoIuwLjxPEB/wLFAfy2JwfcWw0BAdBpAkluHQOtghME1O9VAzr3KQJHUiMF5zclAprCRQM0OKEBMyaVAkNLNQLVrisGsqKJA7n+3QF7lxkBw82VAAbeKQPnyz0A6o4VA/U+CwXD4RkAmbZBAIEDLQKuIgkAqub5A/xpBwCFVu0Avzc9A3ruMwUTWv0AGko7Buy54QMXLWUCoDpZA7GHNQB5oY0BS0qVAsGRDwLB9vkAea6pABro+wKmggsGDzYXBKw4KQIZTgUDte3JAm9zVQHHQOsDULKlAu+a0QCr/uEArG+xAHj6mQAqVR8AytaBA7gQrwD2PvUAz3SJAzjqPwbzys0BOz45AUFg5QFHQwECRDYpA+1WWQPqPvUCcY8BAuJK0QK4enUDe5cNA/QqzQNBjg8EjR5hAVfwyQOgKTkB0jQRA6PWfQNgxU0Cc5eNA46CAQIEUh8EAeofAjHMKQIsjU8BEkYHBI7jMQEsUq0CTh59A7nWIwVplfECsqoFAfUx2QPhH1EDkmpJATGAGQWOLtUAM9LpArOeXQKLonkAZnN5A4+CAQED6gsHWg6hAcYGWQLt3sEBtnbpAgtGwQDckKkCqBV5AcPWvQOP97r959YJAkz2OwTpBiEC18sdANbeAQI8LmkAYj4LBH3WMwSMHVEDnbWhADuBNQDoMisHbfZBAGhG9QGXrpEDsW6xA5IGrQJ1Vz0Dp3DxAwx2uQN7fi0BQ8onBRn1GwNfqhkDcVPlAYFyFQAbXxEDyT7tAO7esQOTujkCkrIvBSaSiQCJ/mEBCGJRAMF4tQAP/lECOZ4vBCROdQF8wk0C38IzB+DSHwceZjUDbna9AtuWXQCjwv0DlfIrBHVnHQOOv3kAUjY1A/BOHwUUji0DVtX/BRsUGwBL4gsEHxa5A8qUlwGFEqkADQp1AO3nYQGfGY0B7EyhA"
         },
         "z": {
          "dtype": "f4",
          "bdata": "PE+zPnrh5z+3ZhBA2GS3wKSVSECZiuc+/jjIvyqwab8cnTY/nneSv20PDkDLTco/su79P5/v1L6lx0g/6ujyPZQ4GUBweUM/ifedPsBehj+iqzg9gZtBQH6TXT+Satw/AKqnwLK0EUAraTM+9zNgQD2CbUCTKVxAh+xDvpa/h79KK3a+vg8JPyX9Jb+f9vs/BAgPPeo6rrwUQz0+k+R9PwhgYsAEIxg/DEo+v4tpkb7+UOm+NvyhP1vNtT7Ix0pAFXN6P7h0nj4fv2w8SMPRvrfeHz+Mkvm/n0Umv47VvT8jQHw/FtvIP7Jj+z+g0sA/Fh2wPuQVfr+BVsLA9UihP8w7z7/PTSI/lhSPQJNxBT8QEwJAa7xAP1Xzpj+VC9y+LoduQKLiHEAnLffApLE6vr6eusDrG6O/COxQQAyUAsCZ/VG95h+AQPnYJD+HcRE/2Ymuv+4x/8AE9KE+Cl1zPslEID75gqE+LPfAP8YyKL38ukpAUW6zPReQ275jl5A+Srx3P1jI/T2aX1G/O2zwP966Bj9eE9g/otyTvcL3HEDlr51ABMC+PyESEEC3nBzAK2DrP9K/ekA5rN2/eoctQCtImD/Bb/Y+kM0QwIyfbECiaIQ+6SZgP2SfsT+fnag97jy1vtWhAECqaXJAO7QNPzrX4j71046/dpCNv0qdHED93R69Y6fIwO2Lwj4TStQ+L39DPworVT/SBSa/Gn8QwLenIkCY1zy+duCvPz8lTD/tLQs/ESmLvx8lQD5VTkbAHvXZP0n7FT/xkqu+FVXAv7Bw6j8TER5A85nMvqbWhsAbA9M/QGSVv9MpC8DLNIs/berwPmrN7z6ZCwbAhinaPuo0pr94kuy+BbBJQMPH2r4/0d2/C2v7PgXwkD6G/QlAeL8FP/gQNkC/jnXA8W2evwD56z99maE/GT6TP/vIsT/tZus/o0LCwM1I4LwMHRI/SoSMwPY9xr4+pnk+kvsOPha0bD6WgPe/UQCowKsQBEAwW6Y/OfCdPxuUaj/J0QFAunYEPvoqCz/QId4/W3+7v4QIIj8d+z4/CVhuP2JNSD5TR3E/uH1pPq2xWb9XcRS/rzwBPy0HZD+Hk1rAdwUkQGY+EsDvCi0/BG/0Py+Op0C7P0M/y9opQIV5c79/NxpAVR6/wA2Dyz1MEK6/fsjRv3m/Pj+/ZMu/23DtP3mAhj+w75W/fM3mP7pN5z9kPPE/uP+EwLOAgz/EzlM/x7LnwD++nD9hjxC+BFcSv7geCr9Byus/pf0/QDeFqcDkSsm+NPIAP2aNlL+WKny/Jm9vv3VexsBfvB7AP62swM0YqD5Py6m+Kwjfv7cVBUATRKE/r+TDPu13H0BOuWBAUoA5QBYFuT+m+ie+BFHJP5TolT/hIIA/ADU3QKCTwT8kfAhAcXgfwJOdgb9s4lQ/AbuBvx1GqD+tzJq/DRS4v4NEBj2gqn3Ah/onQIkAjcCAc9i+ZBdPQNo1Kj9On6O+tcbTv8KL3D+iknk/M5D4vuCPXT8ePDVAObnKvzDuaj+vOAM/DhOcP7v3ZD8ILM4/UwCNQL5GCL6pDee+Qg28vt/rij81hwJAw+vwP3Iu1z4k2bM/KUr6PU7g68CXwRBAviIlwHlAzb4wc1tASEnxP3AzVMBEXU0+R0MjwK/50j2c9jw/vsWpP3XnAMBuGX8+g/4oPy9eLb+5lKS/ug8zP6yYnj+DhJo/EhJOvxrAJT/Q+B8+8JO3wKKch7+j3hRAMJLYP6HptD8iKDRAtpi1PyDtPMBX1B3AMrauP0nJyr+sDgK/V+ePv7IVKcBdmd8+8jQcQJ4tHUA5MLK+TKw3vz71RkCABhJArSm7P0+g4j9yGAI+6EEJP1Lb6r5Cd8c/XdijPyN2G7/axTlAkhS2wIsoAMCVwktAFf7PwM8MHL7ZvgdAoA9+P3g2Mz2tekY+"
         },
         "type": "scatter3d",
         "scene": "scene"
        },
        {
         "hovertemplate": "%{text}<extra></extra>",
         "marker": {
          "color": "#4ECDC4",
          "opacity": 0.6,
          "size": 4
         },
         "mode": "markers",
         "name": "Original C1 (637)",
         "showlegend": true,
         "text": [
          "Cluster 1<br>Dept: Unknown<br>Risk: 0.000",
          "Cluster 1<br>Dept: Unknown<br>Risk: 0.000",
          "Cluster 1<br>Dept: Unknown<br>Risk: 0.000",
          "Cluster 1<br>Dept: Unknown<br>Risk: 0.000",
          "Cluster 1<br>Dept: Unknown<br>Risk: 0.000",
          "Cluster 1<br>Dept: Unknown<br>Risk: 0.000",
          "Cluster 1<br>Dept: Unknown<br>Risk: 0.000",
          "Cluster 1<br>Dept: Unknown<br>Risk: 0.000",
          "Cluster 1<br>Dept: Unknown<br>Risk: 0.000",
          "Cluster 1<br>Dept: Unknown<br>Risk: 0.000",
          "Cluster 1<br>Dept: Unknown<br>Risk: 0.000",
          "Cluster 1<br>Dept: Unknown<br>Risk: 0.000",
          "Cluster 1<br>Dept: Unknown<br>Risk: 0.000",
          "Cluster 1<br>Dept: Unknown<br>Risk: 0.000",
          "Cluster 1<br>Dept: Unknown<br>Risk: 0.000",
          "Cluster 1<br>Dept: Unknown<br>Risk: 0.000",
          "Cluster 1<br>Dept: Unknown<br>Risk: 0.000",
          "Cluster 1<br>Dept: Unknown<br>Risk: 0.000",
          "Cluster 1<br>Dept: Unknown<br>Risk: 0.000",
          "Cluster 1<br>Dept: Unknown<br>Risk: 0.000",
          "Cluster 1<br>Dept: Unknown<br>Risk: 0.000",
          "Cluster 1<br>Dept: Unknown<br>Risk: 0.000",
          "Cluster 1<br>Dept: Unknown<br>Risk: 0.000",
          "Cluster 1<br>Dept: Unknown<br>Risk: 0.000",
          "Cluster 1<br>Dept: Unknown<br>Risk: 0.000",
          "Cluster 1<br>Dept: Unknown<br>Risk: 0.000",
          "Cluster 1<br>Dept: Unknown<br>Risk: 0.000",
          "Cluster 1<br>Dept: Unknown<br>Risk: 0.000",
          "Cluster 1<br>Dept: Unknown<br>Risk: 0.000",
          "Cluster 1<br>Dept: Unknown<br>Risk: 0.000",
          "Cluster 1<br>Dept: Unknown<br>Risk: 0.000",
          "Cluster 1<br>Dept: Unknown<br>Risk: 0.000",
          "Cluster 1<br>Dept: Unknown<br>Risk: 0.000",
          "Cluster 1<br>Dept: Unknown<br>Risk: 0.000",
          "Cluster 1<br>Dept: Unknown<br>Risk: 0.000",
          "Cluster 1<br>Dept: Unknown<br>Risk: 0.000",
          "Cluster 1<br>Dept: Unknown<br>Risk: 0.000",
          "Cluster 1<br>Dept: Unknown<br>Risk: 0.000",
          "Cluster 1<br>Dept: Unknown<br>Risk: 0.000",
          "Cluster 1<br>Dept: Unknown<br>Risk: 0.000",
          "Cluster 1<br>Dept: Unknown<br>Risk: 0.000",
          "Cluster 1<br>Dept: Unknown<br>Risk: 0.000",
          "Cluster 1<br>Dept: Unknown<br>Risk: 0.000",
          "Cluster 1<br>Dept: Unknown<br>Risk: 0.000",
          "Cluster 1<br>Dept: Unknown<br>Risk: 0.000",
          "Cluster 1<br>Dept: Unknown<br>Risk: 0.000",
          "Cluster 1<br>Dept: Unknown<br>Risk: 0.000",
          "Cluster 1<br>Dept: Unknown<br>Risk: 0.000",
          "Cluster 1<br>Dept: Unknown<br>Risk: 0.000",
          "Cluster 1<br>Dept: Unknown<br>Risk: 0.000",
          "Cluster 1<br>Dept: Unknown<br>Risk: 0.000",
          "Cluster 1<br>Dept: Unknown<br>Risk: 0.000",
          "Cluster 1<br>Dept: Unknown<br>Risk: 0.000",
          "Cluster 1<br>Dept: Unknown<br>Risk: 0.000",
          "Cluster 1<br>Dept: Unknown<br>Risk: 0.000",
          "Cluster 1<br>Dept: Unknown<br>Risk: 0.000",
          "Cluster 1<br>Dept: Unknown<br>Risk: 0.000",
          "Cluster 1<br>Dept: Unknown<br>Risk: 0.000",
          "Cluster 1<br>Dept: Unknown<br>Risk: 0.000",
          "Cluster 1<br>Dept: Unknown<br>Risk: 0.000",
          "Cluster 1<br>Dept: Unknown<br>Risk: 0.000",
          "Cluster 1<br>Dept: Unknown<br>Risk: 0.000",
          "Cluster 1<br>Dept: Unknown<br>Risk: 0.000",
          "Cluster 1<br>Dept: Unknown<br>Risk: 0.000",
          "Cluster 1<br>Dept: Unknown<br>Risk: 0.000",
          "Cluster 1<br>Dept: Unknown<br>Risk: 0.000",
          "Cluster 1<br>Dept: Unknown<br>Risk: 0.000",
          "Cluster 1<br>Dept: Unknown<br>Risk: 0.000",
          "Cluster 1<br>Dept: Unknown<br>Risk: 0.000",
          "Cluster 1<br>Dept: Unknown<br>Risk: 0.000",
          "Cluster 1<br>Dept: Unknown<br>Risk: 0.000",
          "Cluster 1<br>Dept: Unknown<br>Risk: 0.000",
          "Cluster 1<br>Dept: Unknown<br>Risk: 0.000",
          "Cluster 1<br>Dept: Unknown<br>Risk: 0.000",
          "Cluster 1<br>Dept: Unknown<br>Risk: 0.000",
          "Cluster 1<br>Dept: Unknown<br>Risk: 0.000",
          "Cluster 1<br>Dept: Unknown<br>Risk: 0.000",
          "Cluster 1<br>Dept: Unknown<br>Risk: 0.000",
          "Cluster 1<br>Dept: Unknown<br>Risk: 0.000",
          "Cluster 1<br>Dept: Unknown<br>Risk: 0.000",
          "Cluster 1<br>Dept: Unknown<br>Risk: 0.000",
          "Cluster 1<br>Dept: Unknown<br>Risk: 0.000",
          "Cluster 1<br>Dept: Unknown<br>Risk: 0.000",
          "Cluster 1<br>Dept: Unknown<br>Risk: 0.000",
          "Cluster 1<br>Dept: Unknown<br>Risk: 0.000",
          "Cluster 1<br>Dept: Unknown<br>Risk: 0.000",
          "Cluster 1<br>Dept: Unknown<br>Risk: 0.000",
          "Cluster 1<br>Dept: Unknown<br>Risk: 0.000",
          "Cluster 1<br>Dept: Unknown<br>Risk: 0.000",
          "Cluster 1<br>Dept: Unknown<br>Risk: 0.000",
          "Cluster 1<br>Dept: Unknown<br>Risk: 0.000",
          "Cluster 1<br>Dept: Unknown<br>Risk: 0.000",
          "Cluster 1<br>Dept: Unknown<br>Risk: 0.000",
          "Cluster 1<br>Dept: Unknown<br>Risk: 0.000",
          "Cluster 1<br>Dept: Unknown<br>Risk: 0.000",
          "Cluster 1<br>Dept: Unknown<br>Risk: 0.000",
          "Cluster 1<br>Dept: Unknown<br>Risk: 0.000",
          "Cluster 1<br>Dept: Unknown<br>Risk: 0.000",
          "Cluster 1<br>Dept: Unknown<br>Risk: 0.000",
          "Cluster 1<br>Dept: Unknown<br>Risk: 0.000"
         ],
         "x": {
          "dtype": "f4",
          "bdata": "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"
         },
         "y": {
          "dtype": "f4",
          "bdata": "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"
         },
         "z": {
          "dtype": "f4",
          "bdata": "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"
         },
         "type": "scatter3d",
         "scene": "scene"
        },
        {
         "hovertemplate": "%{text}<extra></extra>",
         "marker": {
          "color": "#FF6B6B",
          "opacity": 0.6,
          "size": 4
         },
         "mode": "markers",
         "name": "Cleaned C0 (287)",
         "showlegend": false,
         "text": [
          "Cluster 0<br>Dept: Unknown<br>Risk: 0.000",
          "Cluster 0<br>Dept: Unknown<br>Risk: 0.000",
          "Cluster 0<br>Dept: Unknown<br>Risk: 0.000",
          "Cluster 0<br>Dept: Unknown<br>Risk: 0.000",
          "Cluster 0<br>Dept: Unknown<br>Risk: 0.000",
          "Cluster 0<br>Dept: Unknown<br>Risk: 0.000",
          "Cluster 0<br>Dept: Unknown<br>Risk: 0.000",
          "Cluster 0<br>Dept: Unknown<br>Risk: 0.000",
          "Cluster 0<br>Dept: Unknown<br>Risk: 0.000",
          "Cluster 0<br>Dept: Unknown<br>Risk: 0.000",
          "Cluster 0<br>Dept: Unknown<br>Risk: 0.000",
          "Cluster 0<br>Dept: Unknown<br>Risk: 0.000",
          "Cluster 0<br>Dept: Unknown<br>Risk: 0.000",
          "Cluster 0<br>Dept: Unknown<br>Risk: 0.000",
          "Cluster 0<br>Dept: Unknown<br>Risk: 0.000",
          "Cluster 0<br>Dept: Unknown<br>Risk: 0.000",
          "Cluster 0<br>Dept: Unknown<br>Risk: 0.000",
          "Cluster 0<br>Dept: Unknown<br>Risk: 0.000",
          "Cluster 0<br>Dept: Unknown<br>Risk: 0.000",
          "Cluster 0<br>Dept: Unknown<br>Risk: 0.000",
          "Cluster 0<br>Dept: Unknown<br>Risk: 0.000",
          "Cluster 0<br>Dept: Unknown<br>Risk: 0.000",
          "Cluster 0<br>Dept: Unknown<br>Risk: 0.000",
          "Cluster 0<br>Dept: Unknown<br>Risk: 0.000",
          "Cluster 0<br>Dept: Unknown<br>Risk: 0.000",
          "Cluster 0<br>Dept: Unknown<br>Risk: 0.000",
          "Cluster 0<br>Dept: Unknown<br>Risk: 0.000",
          "Cluster 0<br>Dept: Unknown<br>Risk: 0.000",
          "Cluster 0<br>Dept: Unknown<br>Risk: 0.000",
          "Cluster 0<br>Dept: Unknown<br>Risk: 0.000",
          "Cluster 0<br>Dept: Unknown<br>Risk: 0.000",
          "Cluster 0<br>Dept: Unknown<br>Risk: 0.000",
          "Cluster 0<br>Dept: Unknown<br>Risk: 0.000",
          "Cluster 0<br>Dept: Unknown<br>Risk: 0.000",
          "Cluster 0<br>Dept: Unknown<br>Risk: 0.000",
          "Cluster 0<br>Dept: Unknown<br>Risk: 0.000",
          "Cluster 0<br>Dept: Unknown<br>Risk: 0.000",
          "Cluster 0<br>Dept: Unknown<br>Risk: 0.000",
          "Cluster 0<br>Dept: Unknown<br>Risk: 0.000",
          "Cluster 0<br>Dept: Unknown<br>Risk: 0.000",
          "Cluster 0<br>Dept: Unknown<br>Risk: 0.000",
          "Cluster 0<br>Dept: Unknown<br>Risk: 0.000",
          "Cluster 0<br>Dept: Unknown<br>Risk: 0.000",
          "Cluster 0<br>Dept: Unknown<br>Risk: 0.000",
          "Cluster 0<br>Dept: Unknown<br>Risk: 0.000",
          "Cluster 0<br>Dept: Unknown<br>Risk: 0.000",
          "Cluster 0<br>Dept: Unknown<br>Risk: 0.000",
          "Cluster 0<br>Dept: Unknown<br>Risk: 0.000",
          "Cluster 0<br>Dept: Unknown<br>Risk: 0.000",
          "Cluster 0<br>Dept: Unknown<br>Risk: 0.000",
          "Cluster 0<br>Dept: Unknown<br>Risk: 0.000",
          "Cluster 0<br>Dept: Unknown<br>Risk: 0.000",
          "Cluster 0<br>Dept: Unknown<br>Risk: 0.000",
          "Cluster 0<br>Dept: Unknown<br>Risk: 0.000",
          "Cluster 0<br>Dept: Unknown<br>Risk: 0.000",
          "Cluster 0<br>Dept: Unknown<br>Risk: 0.000",
          "Cluster 0<br>Dept: Unknown<br>Risk: 0.000",
          "Cluster 0<br>Dept: Unknown<br>Risk: 0.000",
          "Cluster 0<br>Dept: Unknown<br>Risk: 0.000",
          "Cluster 0<br>Dept: Unknown<br>Risk: 0.000",
          "Cluster 0<br>Dept: Unknown<br>Risk: 0.000",
          "Cluster 0<br>Dept: Unknown<br>Risk: 0.000",
          "Cluster 0<br>Dept: Unknown<br>Risk: 0.000",
          "Cluster 0<br>Dept: Unknown<br>Risk: 0.000",
          "Cluster 0<br>Dept: Unknown<br>Risk: 0.000",
          "Cluster 0<br>Dept: Unknown<br>Risk: 0.000",
          "Cluster 0<br>Dept: Unknown<br>Risk: 0.000",
          "Cluster 0<br>Dept: Unknown<br>Risk: 0.000",
          "Cluster 0<br>Dept: Unknown<br>Risk: 0.000",
          "Cluster 0<br>Dept: Unknown<br>Risk: 0.000",
          "Cluster 0<br>Dept: Unknown<br>Risk: 0.000",
          "Cluster 0<br>Dept: Unknown<br>Risk: 0.000",
          "Cluster 0<br>Dept: Unknown<br>Risk: 0.000",
          "Cluster 0<br>Dept: Unknown<br>Risk: 0.000",
          "Cluster 0<br>Dept: Unknown<br>Risk: 0.000",
          "Cluster 0<br>Dept: Unknown<br>Risk: 0.000",
          "Cluster 0<br>Dept: Unknown<br>Risk: 0.000",
          "Cluster 0<br>Dept: Unknown<br>Risk: 0.000",
          "Cluster 0<br>Dept: Unknown<br>Risk: 0.000",
          "Cluster 0<br>Dept: Unknown<br>Risk: 0.000",
          "Cluster 0<br>Dept: Unknown<br>Risk: 0.000",
          "Cluster 0<br>Dept: Unknown<br>Risk: 0.000",
          "Cluster 0<br>Dept: Unknown<br>Risk: 0.000",
          "Cluster 0<br>Dept: Unknown<br>Risk: 0.000",
          "Cluster 0<br>Dept: Unknown<br>Risk: 0.000",
          "Cluster 0<br>Dept: Unknown<br>Risk: 0.000",
          "Cluster 0<br>Dept: Unknown<br>Risk: 0.000",
          "Cluster 0<br>Dept: Unknown<br>Risk: 0.000",
          "Cluster 0<br>Dept: Unknown<br>Risk: 0.000",
          "Cluster 0<br>Dept: Unknown<br>Risk: 0.000",
          "Cluster 0<br>Dept: Unknown<br>Risk: 0.000",
          "Cluster 0<br>Dept: Unknown<br>Risk: 0.000",
          "Cluster 0<br>Dept: Unknown<br>Risk: 0.000",
          "Cluster 0<br>Dept: Unknown<br>Risk: 0.000",
          "Cluster 0<br>Dept: Unknown<br>Risk: 0.000",
          "Cluster 0<br>Dept: Unknown<br>Risk: 0.000",
          "Cluster 0<br>Dept: Unknown<br>Risk: 0.000",
          "Cluster 0<br>Dept: Unknown<br>Risk: 0.000",
          "Cluster 0<br>Dept: Unknown<br>Risk: 0.000",
          "Cluster 0<br>Dept: Unknown<br>Risk: 0.000"
         ],
         "x": {
          "dtype": "f4",
          "bdata": "qXP1QJ2m2kAuZiFBPv31QC2wGkHtrg1B+AgcQWEX0kCbuANBVBXVQCJbHUHs+xVBqu4QQcA0DkHgHg9BkJ9rQdngAkH1DBFB/zvWQEFTB0EIHRJB8c8HQV1370BU6gZBoEQBQS1hEkG7ww1BJmEWQa7l/0C6/uRA1NEEQTW+A0F8izlB/P4UQUS6+UCSNu1AYvgGQfA5AEG28QRBvY0cQV+U8kCtxghBZcwbQfi9KUHwQV1BXli7QAEBCEFonhdBumbzQPTkB0G61gRBMTQDQao7GUEFyhVBSI4PQe5n/EAbVQlBWT8lQWrPJUGbav5AR21xQexLDEE1GQZBvZvzQJxpHkGQUuFAtR0MQa1kB0EksixBmTMWQVeZ+EBRyx5BkGIBQV+uDUHVRQxBQJwQQfXaGkH6/N9AZKAPQbCwBkG9T+xAXvcFQb6QCUE0WQlB3P0lQbj8B0EbwApBr+AUQbGMH0GgzWxBiOUcQbfsGkF2bDJBbiQVQSH+AkGNOwRBnkIHQeDpDkFS7QFBjbMdQT+naEG3TSdBFqQlQbQ7HUE8Ue5AW7X7QKy1BEGtdw1B5UUNQQPZCUGhlOdA07YuQR4zCkHtexNBBWMGQaKiAEGtuANBy78VQWhHDEEJfClBDTvhQKGz7kChQS1B6sEGQUI1FkGoUxtBXw0EQXdj3UDN+wlBKDcWQYgPAEHQHTlBxTgBQTdZCkGSf/5AqbUjQRQ7+0BeEvtAg+/zQP/VIEGzpANBqQ8KQUHnEUHGB/5ApAoHQXAw7ECVoR9BQcsGQcN3GUG0yc9AhEsZQbUmDEEVwvRAqPUPQfc2EkHaOSFBWi8SQSDHGUGQABhBasIMQQmJFkH1s/RA8ZMWQSIYHkGndvtAO48KQbORHUFA8XBBdMEDQTCFGEFou1pBihcUQfjlA0H09gNBND0NQejeBEEb3vNAdRsWQZWtC0FuIRtBI88dQa+hG0Hv6iVBsxMOQa9kGkG6OhVByS/aQPXdGkGPyP9Azl4WQXAAC0HWzuFAF6EIQXwyCkHGmxZB1OwIQcDNDEGQjPdAbpsVQRyGIEGtBANBl7wFQRf+AUHeLSFBOQ4GQZnnCkHV2fRAlQILQR+n50BLAQ1BTyfYQDNKGkHJWR5BUM1xQRn7CkFZ1RBB5S3oQGlLDEENZE1BjtQFQeZ/CUFYsxpBMp0nQXNeBEGPmhZBjkcFQaLfJEHV1yBBRogHQX2WBEGa6Q5BZi72QPLZBEE5QvlAGKYSQdyOLUHuBA1BIgsiQR6pBkEaKBlBIZUXQQhvEEG2vQ1BlLAHQYZS6kCImANBB5QdQYYxEEHkp/9AYiMIQdooH0HhigdBO8IkQZx270CgaBdBd68MQS2KCkEGBw9BVDjjQEFvG0HY6y5BGBQVQUQo9EDa+w1BeTf0QCVxHEFatfBA2qPvQKRnFEHhRRVB04oSQdt8+EC11vpASSoTQUt/JkEPzCZB3KYXQdCdGUE84PdAUdwlQc25E0EUohZBieoZQZTzB0G69wFBE7ABQQJ+EUE="
         },
         "y": {
          "dtype": "f4",
          "bdata": "mB52QH+Po0BT/ZNAjLSXQFNKZ0BLI5VAFQiRQO6snj8/D7hATcspQLiquUDwNaBA8oF0QIfyX0DKqTpA4oYoP2UDpUDVuyxAHEYTQKhhMEB1JUVARE+JQAfic0CnGYdAnQ2AQFStYEDB6IpA3iyGQAuOa0BGgAFAiwqYQEJBNUCZLmRA0WOjQFgZS0DlgWNAvpqEQE1rb0Dn+2RARTieQADsi0Bew5lAhDVrQKv8OkAXDQtAr2uFQCFImUAFdvs/zRUhQDZ8g0CfT6dA4i+ZQJVWOUDiHKZAduyIQI/XuEDZ+khAnPNnQAadekCRHE9A1j7VP9YrhkAVsXRAqXiMQFrLgEDAk51Aivp3QIPdc0BuIqhATkqYQD6nmUCETWtA4l9UQPVvjUBMsZ1A0Eo6QBiN1D8PxLNA8BsJQJBJm0A2k4ZADY1DQEhcWED2zYFA2vRtQGIhk0DW9qpADQENQJqeU0BTmy5Am9pbQCBFpUCu54xACM2AQMEAp0DSEItAAG9HQAbFiEB68S1A8p5GQCIVIUBqGnxA8xkQQAZsJEA49I9AAal2QNWUnEAptWJA4kgYQF6la0AcmoJAqWobQP17hkAtsIRAjG4mQMCxlECKs45AohCnQDgFmUAq5ZZAlOa+QNj/JkAjY49ArhiKQCbkXEBXjmo/xPydQAwkF0C7EwhACbexQOjkfEBoEihA+duEQM7kO0BVR5xAOPqOQKhmfEAJSlZA/s5xQH+dkUD4QrdAEzyQQJU5D0D2DhtAqJSCQJ6/N0D9w41AwH6EQC1MSECKZYdArV1hQDU7EkDbGWpAkfOIQG1l/j/FWlJAK92WQHqLlECI4sRALNN4QKShnT81sJNA/y+6QC3ljUA3n69A/6KAQJCEkkBHIDBAZZGOQM6aiUDVHTNAJpGSQCNDi0BBvTtAIhe5QAPDlUD9p8VAexR8QOPUVUD71FRAFKU5QP5JpUDXHEhAOr2WQHAJtkB4PI9Agm8NQN19fECjIiBAcni8QBEUjkBD0YpAcoGeQC0f0UCnl5RAokuDQJiAnkDWJxxAZx6FQD3iaUCPXkpAuAvEQPa6d0Dj83pAL56gQFtRrEBwaKdAtUd6QAXgqkD9bG5A1xiQQAspGkD2/YdAFd4IPwV6gkCJ7RRAee6sQE2BcUB/hy9A+V2eQBS8lEAWox1A8ktBQP+CCUAA1ClALOOcQH4kSUDjmrxAWuCNQM5Hh0Dy8YFATJ+kQAJPpECel0VAbHUJQMLNckAOyJ5AjopmQNWMs0AjAAZA7aB2QN4olkCUaktANtpUQNa3s0C97jpAx3pIQKXcMkDYsW5AkWBsQLUkh0ASi55A/YtuQJwNcUCt35hAghmZQDOHM0A4JnNAqhFsQCM4W0AUZaxAfftFQH79ikCL4b9Abj6UQG6piUCCjJZAASJqQLlITUA3vj1AzVCOQIUQikDEQTlAzuRqQMO2l0D3OCtA44N5QFikwkChV4ZAlaBEQOsWaEAO5JxAgVKrQHoKnkBlJ7hAjJIvQI082z8="
         },
         "z": {
          "dtype": "f4",
          "bdata": "2uqTP4EmAEAkldQ/im4mQMmNDUDibklAAuT6Pq7dKkCVW6S/E4olv6JMP0DTd1VAsaDpv7zFAT7qfqk9EnIJQGgMVD/uolu/8pUUvy9BOD8hQRNADCFrQHWbM0DzcJhAHmgsQDcEA0D2Xds/ZJ9CQPnf1r/WlBNAZBg2P3d57b9VGyBAoMszP889lj+/Ywk+FKi7v0jaFsA+lgjAEFSjQHWrib+js/E/0mpnP28vPr9OvLc/iDjNP2qIvr+Vnbu/Or8lwPnH/j8XkVRALGd7QKwrc7+G6Ps+62MaQKNxbkDGGJe+iI89wARSHr8wpxtAQ7zOvxj75z+l8hW/Pu+AP4sJYkDh9u8/Y44IQCLCCr+IerK9/vQRv/y7RkDywEtAPGsSPqRSv7+TkBNAkrwGwKFRfTyTCZS//eSwvtYQUz9PwX0/ac2Yv2p6nb8r97I/5KyQv3Ex0z9g5SJAgLuaPz2TET912/o/f1ToPzEKZ0AlnNq+ChqXP6gIN0D+zgvAZjoxQM9lwj8k4QpAoKrvv2boAb4TDy6/NSljvFTdcr+MIPi+dXYbP6dlikDYeYS/8LAsPyEbTUCihIS/BXcXwKFMGUCtmJG+IkrJvnyaF8BBFJA/dFEgv5NCNkCVF5K/EMoeP9HlZD/b1X5AhleBv9ZWScCloC2/LOJ1vxGfVT5GHdC+5sE3vq4Puz855RnACdBovRkUncDYSDBADAxPQE6rGL9SoSBAp8G5P6JtNsAHHBQ/rPlNQPUguD9aNL8/HmHuP/3coz/jryk/gF7pPtPkvj8LgPa/+oIAQGorTD0F/lu/hBF5wH3CG8AOVytAzkU8wJ5Oyz9lWkhAUpXGPnPKfL4EE5C/NMNDPrVjhr+7qDi+ucLtPxKCW7+0PjFAGjHYvpxI5T8V/s5AvVVUQGvwQj9+Zns/RY9sQP5Ih74hsD4917WRP8DvMT9CiYO/NqEowOHBgT4PhhdAOmgKQCcIfj812oY8F3eDwFjsEz9ZWwtATkjeP1YpzD8mmDRA5zPGv8rMPj+HMum/rYANPxql6b1rqpa/U87bP5jMhb+xtms/4mkQQOrNk0AR1iJAZiYVQNJPdUBiUlNAZEQ5P47Ssj8Mz5w/V0wvQIrMt7+KlQu/rU3PPIa5qcDLUShAPqsLv3KvwL4jQoNAwiGgPzJXkL+X1MW/irQwP432akAWWSI+Wa4GPyoKBUB3sXC/tHgkQBDmp0BJOS4/n7dEP1iST74EKtQ+6zfGv0W23j+Z+BK/5w+APmAz/j+UT9W/2+nGv3i4AcDzSYs/PTUuP+CQjUCZbNw/8JVewIDA0D8hX3pAHoX8PhhHqb8ILiI/MyHkv5xYPECNib8/g09APFW43D/KZdo/5dBbv8EfnT5lNJC+r2M/v/MKHL+50F5Arr4LQG1RPsD1c1S/YHNMP/OkE8CgYlrAW5VoP/hlOb7lTT5AOlV+Ptbz3b5iWDJAQ0r9P/I3xD+2teK++f+KPipCDL+sdfg+yP0nQKqZwz911RdAJaGPP4YVur8="
         },
         "type": "scatter3d",
         "scene": "scene2"
        },
        {
         "hovertemplate": "%{text}<extra></extra>",
         "marker": {
          "color": "#4ECDC4",
          "opacity": 0.6,
          "size": 4
         },
         "mode": "markers",
         "name": "Cleaned C1 (637)",
         "showlegend": false,
         "text": [
          "Cluster 1<br>Dept: Unknown<br>Risk: 0.000",
          "Cluster 1<br>Dept: Unknown<br>Risk: 0.000",
          "Cluster 1<br>Dept: Unknown<br>Risk: 0.000",
          "Cluster 1<br>Dept: Unknown<br>Risk: 0.000",
          "Cluster 1<br>Dept: Unknown<br>Risk: 0.000",
          "Cluster 1<br>Dept: Unknown<br>Risk: 0.000",
          "Cluster 1<br>Dept: Unknown<br>Risk: 0.000",
          "Cluster 1<br>Dept: Unknown<br>Risk: 0.000",
          "Cluster 1<br>Dept: Unknown<br>Risk: 0.000",
          "Cluster 1<br>Dept: Unknown<br>Risk: 0.000",
          "Cluster 1<br>Dept: Unknown<br>Risk: 0.000",
          "Cluster 1<br>Dept: Unknown<br>Risk: 0.000",
          "Cluster 1<br>Dept: Unknown<br>Risk: 0.000",
          "Cluster 1<br>Dept: Unknown<br>Risk: 0.000",
          "Cluster 1<br>Dept: Unknown<br>Risk: 0.000",
          "Cluster 1<br>Dept: Unknown<br>Risk: 0.000",
          "Cluster 1<br>Dept: Unknown<br>Risk: 0.000",
          "Cluster 1<br>Dept: Unknown<br>Risk: 0.000",
          "Cluster 1<br>Dept: Unknown<br>Risk: 0.000",
          "Cluster 1<br>Dept: Unknown<br>Risk: 0.000",
          "Cluster 1<br>Dept: Unknown<br>Risk: 0.000",
          "Cluster 1<br>Dept: Unknown<br>Risk: 0.000",
          "Cluster 1<br>Dept: Unknown<br>Risk: 0.000",
          "Cluster 1<br>Dept: Unknown<br>Risk: 0.000",
          "Cluster 1<br>Dept: Unknown<br>Risk: 0.000",
          "Cluster 1<br>Dept: Unknown<br>Risk: 0.000",
          "Cluster 1<br>Dept: Unknown<br>Risk: 0.000",
          "Cluster 1<br>Dept: Unknown<br>Risk: 0.000",
          "Cluster 1<br>Dept: Unknown<br>Risk: 0.000",
          "Cluster 1<br>Dept: Unknown<br>Risk: 0.000",
          "Cluster 1<br>Dept: Unknown<br>Risk: 0.000",
          "Cluster 1<br>Dept: Unknown<br>Risk: 0.000",
          "Cluster 1<br>Dept: Unknown<br>Risk: 0.000",
          "Cluster 1<br>Dept: Unknown<br>Risk: 0.000",
          "Cluster 1<br>Dept: Unknown<br>Risk: 0.000",
          "Cluster 1<br>Dept: Unknown<br>Risk: 0.000",
          "Cluster 1<br>Dept: Unknown<br>Risk: 0.000",
          "Cluster 1<br>Dept: Unknown<br>Risk: 0.000",
          "Cluster 1<br>Dept: Unknown<br>Risk: 0.000",
          "Cluster 1<br>Dept: Unknown<br>Risk: 0.000",
          "Cluster 1<br>Dept: Unknown<br>Risk: 0.000",
          "Cluster 1<br>Dept: Unknown<br>Risk: 0.000",
          "Cluster 1<br>Dept: Unknown<br>Risk: 0.000",
          "Cluster 1<br>Dept: Unknown<br>Risk: 0.000",
          "Cluster 1<br>Dept: Unknown<br>Risk: 0.000",
          "Cluster 1<br>Dept: Unknown<br>Risk: 0.000",
          "Cluster 1<br>Dept: Unknown<br>Risk: 0.000",
          "Cluster 1<br>Dept: Unknown<br>Risk: 0.000",
          "Cluster 1<br>Dept: Unknown<br>Risk: 0.000",
          "Cluster 1<br>Dept: Unknown<br>Risk: 0.000",
          "Cluster 1<br>Dept: Unknown<br>Risk: 0.000",
          "Cluster 1<br>Dept: Unknown<br>Risk: 0.000",
          "Cluster 1<br>Dept: Unknown<br>Risk: 0.000",
          "Cluster 1<br>Dept: Unknown<br>Risk: 0.000",
          "Cluster 1<br>Dept: Unknown<br>Risk: 0.000",
          "Cluster 1<br>Dept: Unknown<br>Risk: 0.000",
          "Cluster 1<br>Dept: Unknown<br>Risk: 0.000",
          "Cluster 1<br>Dept: Unknown<br>Risk: 0.000",
          "Cluster 1<br>Dept: Unknown<br>Risk: 0.000",
          "Cluster 1<br>Dept: Unknown<br>Risk: 0.000",
          "Cluster 1<br>Dept: Unknown<br>Risk: 0.000",
          "Cluster 1<br>Dept: Unknown<br>Risk: 0.000",
          "Cluster 1<br>Dept: Unknown<br>Risk: 0.000",
          "Cluster 1<br>Dept: Unknown<br>Risk: 0.000",
          "Cluster 1<br>Dept: Unknown<br>Risk: 0.000",
          "Cluster 1<br>Dept: Unknown<br>Risk: 0.000",
          "Cluster 1<br>Dept: Unknown<br>Risk: 0.000",
          "Cluster 1<br>Dept: Unknown<br>Risk: 0.000",
          "Cluster 1<br>Dept: Unknown<br>Risk: 0.000",
          "Cluster 1<br>Dept: Unknown<br>Risk: 0.000",
          "Cluster 1<br>Dept: Unknown<br>Risk: 0.000",
          "Cluster 1<br>Dept: Unknown<br>Risk: 0.000",
          "Cluster 1<br>Dept: Unknown<br>Risk: 0.000",
          "Cluster 1<br>Dept: Unknown<br>Risk: 0.000",
          "Cluster 1<br>Dept: Unknown<br>Risk: 0.000",
          "Cluster 1<br>Dept: Unknown<br>Risk: 0.000",
          "Cluster 1<br>Dept: Unknown<br>Risk: 0.000",
          "Cluster 1<br>Dept: Unknown<br>Risk: 0.000",
          "Cluster 1<br>Dept: Unknown<br>Risk: 0.000",
          "Cluster 1<br>Dept: Unknown<br>Risk: 0.000",
          "Cluster 1<br>Dept: Unknown<br>Risk: 0.000",
          "Cluster 1<br>Dept: Unknown<br>Risk: 0.000",
          "Cluster 1<br>Dept: Unknown<br>Risk: 0.000",
          "Cluster 1<br>Dept: Unknown<br>Risk: 0.000",
          "Cluster 1<br>Dept: Unknown<br>Risk: 0.000",
          "Cluster 1<br>Dept: Unknown<br>Risk: 0.000",
          "Cluster 1<br>Dept: Unknown<br>Risk: 0.000",
          "Cluster 1<br>Dept: Unknown<br>Risk: 0.000",
          "Cluster 1<br>Dept: Unknown<br>Risk: 0.000",
          "Cluster 1<br>Dept: Unknown<br>Risk: 0.000",
          "Cluster 1<br>Dept: Unknown<br>Risk: 0.000",
          "Cluster 1<br>Dept: Unknown<br>Risk: 0.000",
          "Cluster 1<br>Dept: Unknown<br>Risk: 0.000",
          "Cluster 1<br>Dept: Unknown<br>Risk: 0.000",
          "Cluster 1<br>Dept: Unknown<br>Risk: 0.000",
          "Cluster 1<br>Dept: Unknown<br>Risk: 0.000",
          "Cluster 1<br>Dept: Unknown<br>Risk: 0.000",
          "Cluster 1<br>Dept: Unknown<br>Risk: 0.000",
          "Cluster 1<br>Dept: Unknown<br>Risk: 0.000",
          "Cluster 1<br>Dept: Unknown<br>Risk: 0.000"
         ],
         "x": {
          "dtype": "f4",
          "bdata": "D82/wE77AsG7BOLAQxDkwD9A6sAUo7TAsJOJwCmIvcDDcM/AM3KwwD5g1sDOH7jAkqnNwM3yysCpyMLAJl7EwMqYk8BWKMzAaHPGwEhpu8CxXj7AeNmgwHJw8MAdQ8vAzUa6wMrO2cAhQLrAB5CiwNeRmsBTN73AJIoCwO3dvMDhS6K/8RfewMq2vcDFdtLAPPe9wH8MuMB9x73ACZy8wJFDoMAxiuHAcs6wwBRrwMAVg+PA0p3IwDZA5MApp5HAN2mgwDFlv8DZE7LATyWhwGvT0sDMpfG/sNrFwOPc38C+CMHAp/+2wLj+vsBUVZHAmAaiwOcjr8Ag86zAY3DjwLs4zsDT7NTAhS7NwBew47+qidfAQRvLwMbXrcCwAr/AesPjwMBToMA3vtrAV0HLwBL7+MDUCcvAQbPZwKSWusDAJsnA0DrFwPEprsCy/LHAWfDDwDI44cAkK9HAFN7RwF12scBMdn3Al4q+wFNo48C35cbAmFWxwMKLmsDEvMPAA9OuwHRz1cAE1ZfALZr3wFitycC3RevAvEXWwGu52cDU4evAitXDwCPb1cAQgMzAbZWwwCXxv8CMdMzAYrLbwKh+3MCrLqTA4JjZwCom+8B8tObAAbfAwDf64sAFoqjAiX/kwCphkcDpI7LAqdXWwLc/uMD8Cg/BgJvhwOiNB8GrdefAK7q2wO4XycBwF/TAnVbHwDJhssDnVrHAn4rLwBtes8Bl/9rAEsG5wA990sCS8I3Af8nDwNyW28DBptDA7lbGwO93vcDdONDAilqsvzD448B6jIfAnoajwL/X3cCJeQbBAMDUwDtdr8BLK77A5Q7awFGxosDWBwHBagDlwBb3wMA/t7HAr0KawEzJ1cCAns3AphmhwOO1er/1HV/AhoGzwPIc18CEYD7AEFUBwW7wdMCAgke/SsbkwDQS1sBNMbfAF36fv95C08CbIcrAgVAAwI6dAMEGStnAGIrIwAHdvMD2YurAXBWowP2+usAHnMHALy7JwK51vMDLGpzAUo0BvsAX+MAooPTA93+3wAkQn8DAfcvArImrwFTjt8AFQ8XAojXhwJPAwcCgAL7A5iK4wNhn1MBgqsnA89z5wCPJw8COvaDABsGcwPqEs8A9+97Az8i8wPFfzcA/gcjAEZ64wLqRucAb5rzArf/ZwDjBvMD00ufAzKjIwM4Zv8DDM9XATwudwPVSvcBuI5zAoqCrwAr2usBhAsXAHjgxwPMIzMCq6KfA9ZINwHXVC8GaLNrAP6OrwHZTuMDEQ5XAW12twJsnzcCkANbAldN6wCJiw8AYvPDA8YKvwK3t+cAJbtLAm8rAwKoaosAlq+zA54SUwAqpPz6nS7nAOE2WwI8o98BxedHAmgSywCKhwMD5tLfAgjC7wHnHt8A62o3APQ6swC7krMCyJLHA/pKpwLaYz8CCTRDBQL+owCi5wsCuIQDBf8bDwCJj58AAtJHAwKm5wCGC/cC4OufACcfEwPtXxsAdicjAt+sCwVz+2cDAB9DAZCjgwGRes8Dn77rAsPuawPAzxMDP/cDATHy2wKYzz8D0oszA9ou/wNxytsAow/XAGovZwOHd6MCeJ9DA4sqgwIYIx8BYc8vAApHMwJX31cBj/cbANCO7wPuotMBqqO/A1N/rwDrozcC36LXAHDXowL42lsBAJI7A8GHVwOO6wcDBbqzADOCowPGO2MBl8rPAC9bWwPA5u8BKb9jAucvowENvz8DsXuLA8+2AvyGIw8AeTaHAfKLYwArru8DeLRLARq7jwLvn4sDpEfbAQabAwNvopcB7GK7AX5S1wIMhtMAGA7/AZJLFwE0g2MA3kv6/NRLGwMxysMA4cMTAAW/TwAYxzcDSyKHAqlrNwOTdqcDsDc/AKl7VwLd6ucAxXsXAtX3EwOZ4xcDTx7XA9WirwFCc8MAqpuvA6/qywP9/wcCoNNbAsGLOwNkxsMA89OjAaWC2wC8ItcDm4XW/9KurwL5On8Dwl9fAW030v74B4MDNB6jA93nFwHBS8cCc7rjAn2ubwGtmu8BY/fS+eS3TwPL91MAtbs7AVk/QwNvOzcAEnd3AexO8wDXDysARpMnArIvhwIESC8BT9pXAhauWwLKorMAyILLAcUDMwKgipcCTL6zARY++wOhYscCG5ZzA5PPcwEXd5MCDranAuzbhwADRw8BLVbXA0d7NwDBOvMC82c/AVN60wJ4+xMACLt/AKojDwB9OtsDSmOLA1nu3wKUK3cBvAdfABzzHwLug68CfeNnAwLS+wA8w0cBbnvXAMvPFwNs538BmzaXAirfSwF0xt8AyEufAN3qSwInLrsDFscrAAZHawAw15cChCsLAxgy4wBPjr8Cvs9PAzOvfwAk4y8DaU9zA60HRwHSs8sBiKL/AOoS9wMqYxMCoOdTA2m3xwB4d1MBUt9fAlL/iwAyKzcD7CtXAw5vgwIlZt8CHW9jA2QC/wCygyMDnPJ7ArXKpwMmTt8AWRKHAzpTdwDAs2sDgedvARdigwNa9rcC9YLzAFGEEwUYCzMDAIfvADbrvwG5kzcAtaL/ATAmgwCpdz8AGabrAa2SgwBAqw8CNxb/AXBitwILlosApMtnAise2wHtokMAcudjANLTRwCZzzMCvtazA/3fFwHx0qsC+p+DAGuO6wKWwx8BhSrfAe93hwK9s0sBjq6rAXATMwDRl4MDLBsPAlFSXwOCm2MCsTDu/w4SVwDaY5sDgsiC/TSytwNQ41MDrnonAAFHEwIQLu8A+V+fAWEW0wN908cCJ/tHA/M/GwNaD2cDXL7nAxdyIwMiE9sBPns7APgulwIoDsL/Cm87Ab3iVwAwdzMBRqrO/dX6+wN0QhsCnZ+nA0uyJwBGu+8BTlqDAmn/UwE7+ycCCUJ/AEES7wL/VxMDjRsPA1j/GwF9iwMDRCbbAo/WkwAqupcBNG93AGOelwNo38sAJetfATJTLwGnK1cDAWrbAfO+swJOY08B4N9fAEWr0wAAyycDu6bvAD0DRwEpR0MCVYJbANLO5wHer3cA6qt7AqJC7wFqeAcF+4uDAgkfcwIxCwMAPzK7AGP6RwATHs8CkZZPAHh6twBJCo8AG0JzAn+7gwOzGvcBliurAjOHQwFNuv8AgrrfAmcybwKcjrsA+vaTAONGhwHRbssB9WaXAeoDAwNbwxMCXIMDAZ7LDwLNOtr9C2d/A/HjTwBe3zMD4PMPAPKbgwJSL2cCij6nAs4M2wJymwMDDhZTA9Z+pwL9gnsAV+NDA4T25wFySucD5+s7AvO2dwI55q8DS0rbA5CPvwLQJ2MCfgrvAVhe4wPcy0MC0O87AiOCYwJwL5sBx4LXAl2jlwGZ/tsBBs8jAt86TwG37usAgE7nARILPwEWD1MCGItDAZijKwA=="
         },
         "y": {
          "dtype": "f4",
          "bdata": "E33Dv9daHb88qcc+CSZlv0VpN77t0/e+LCCQv5+IpL31ILs7UkQOwC1S8b8GVL2+U8G6P5QMUD+FREY/KlnBvmnDvr+npwk/jTliv0ro4D0bi7vAXehOv+EWj77ONUW/Y1sTPgIeAL3IVPU+eQSoPso/5r8bjF6/kFm4wBvVpL6/x+jAllOKv8n1hT/J3NY/X4suPuvdM7+Jytg/WQrmv08mmTtTZ6U+EGwov0icND8rRf++3x9PP39UM7+GhPm+9I5Gv6nhzD1JR6k/AG0fwKew7j9fXrLAR9p6vRTeor603Je+UhG6v1h7Wr16xca/d6Efv8WF/L//Sec/6izUv3/XSb7nFxU/ba9kv9JoxMCj+Gu/EwwUv9HnCD9NMq68dB7bvnIFqL4DxVq/TmjYvk4aFsBHnIE/O1bnvpeRmz7J0K+/KU/Gvq9pDMDVxGm/0Q5Wv88Ksb9JLLs/zFmYv4dptj/RPiLAOajgvmvoRz9Nlk2/MTAbP3ULJD9BwDY/bHAdP8U65r7Awfo+MLRIP6o6xL6dVIq/vYeGvhFOl78d55q+k9uQvrImwz/WzhO/me4zP4bcwL9kduS+bAZkv4+AVT91xFW/8PghPgjA6L8shA88NzB2v7pamj+GHMw/fxUTvxgU4r+P5K6+tmKTvpk3jL/jU7e/b9YRvxtt7j0KZIU/cUxqv3ikPb8SMHG/TmnuPscoer2EHVc/BhN+vtj1Fj+O+i49pZ9dPwog3b7YdaU+liFdP/yNCz9i9IE/fgvZPqSRGr/BCna+y8vMwMM6qD4YV66/7T8Ov+dwM74q08e/xkWQPiaYo7+2+5K/z7sMP16Jir8LKr4+VKMUP/+m0b92qcS+lh1zP3MmjD968Li/qi7fvF3izcCa8IA/gVlPP0x64L5A27XADrxqPpYd6j46wsvA0MQyP6g7n7+cYXy/wsnKwDsWgT1fDcO+BfnAwCmPd7+Q3MM/xqfNvdRf/b6B7289vlSmPyC/lL/YEwu/2vU1Pjq5rz8JVce+TTrlwKjRzb8NwyM/KWdBP+DNLr+eKn+++dgwP4+iub6wAgrAHJ55P8+tQr8QBe6/URcCv2nNAEBIG4+9APqov6HIbD9enwq/gdEHv+J6176n3fy9Zik2PyXAXr6INvK/TMYHvrftDTyWxJ4/fFHJvh6xEb90JWm/OQ6cvxlDdj64JYA912saP9GiW72YtAM+RldAP+jSVL6zeqW+BMm3wDZUhj9IjVi/j6S5wCw1Vj8L7c2+NuiZvi0nQr+0XwW/U0Zjv/beZL/eSG6//UOMv7amnD2hLO2/oijuPnwj0r44FB8/qKAxvXfPhT555ho+Cak+v2pE3cCep/Q+WrN+v5bTtj7/HXc/4tU/Pi7Y5j1L95w//J1WPSwNbz6Q1mU/fjFevuVSRr48kzs+9KxNvmElhD6ItXe/Rvy1PWkBx76Hs2q/KSXOvrKiqr4+wme/48oSv7j/Cb5lLW+/ytgLv1Q8pL9LaMi/Vy2lP1jILL6iIMu//U/GPu3IsDydi2y/TR1zvFIYA78mnuQ+1BTuvn0aFMBVdeA9xgiFvgPBtT25YYU/gF4Nvl98yj5+0zc+iFdQvg3DgD53G2m/w6+yvrl9jb5OQD094c6vvw9AoT9MpgY/U54gP7YAOr+7wW6/EOWIPRLrXL/ZTLW+QA6bvWdNtr/8eTi/b8A3P5U2g7+l2ny+dq4Bv96hP752/M4+6Cibv5Z0s789sJK/2kDEwIOelT6DpsW/1K8uP/FGgD9VF7/ALHcDP+enJz8cgJq/7r1LPpRgW78CBr0/TSsQPt8nKL7fmrE9HShkv9/F9j66Mr7AL/2gv/Q97r4Zx42/2IKgP0n0+7+F1WO+T3g3PuBFEz7t5v++iDRJvTY/Jr+1tUk/gKoMvzeV170UNXE/UWqmPsLcbL/R0gnAew6Tv5t2eL/RlzG9iaJgvse2675GinW+F5q4Pyz9d7/S68zA1pApPyOeEsBgRfu/y8jdwFurzD54RhE/OAZOPhvihj83pem+23Wzv2C2yb5+Z9rAFJByvpIj0r1nSSG/ObBUv0qMWL44DTK/XSVKv57f6D1cWza/I+9nvtdCzsBlUQc/Yd9JPrmhjL+NJY4/cnJSvzChrL8QQDU+ViDJvvij1T09+ipA8wsWwNmrmD7kMxa/TSgeP3N9JD5Jejo/iznKv4QmBz+d6hG/bWAkPwTYRr+OHMw/VNOwP1Jgfz8SAIK/pfXHvxVQtL/Z6NQ/XDl0vzX13L+fNHa//Q3Iv30CzL37wVO+O56NvqB7+L/n7FG/rhiVv5bNwL8YKem+wbkEvgtxuT6dTEC/X5GqPwsdEr4zrJA/t1BTv4XEdL83pis/78Olvbp/H75T66W/87eQvqTC1b/d64e/uiRBvyPb0jtvDJy/bZ2nvzc0s77EGu6+Rg7nPlJAxT5Nydq+L529vy+Uzj4X5pE+Y9SQvgRelb4TBC8+YNyZPlndRL/d/DM+fII7PjYaC8CMExM/PQWzP3OW4b4eP9+94E6dv9cour590w6+b2unv77GCT+E6jq9Sj1mP5goaD44MRI/PV9Vv/REcL9oNPg+b0ATv1iJcj11iG4+8sdHvqO7DT+ksS++cYy5PSTYAL84XRa/p903vsO//z5/i5m+jJgWvcndob+gWJG/XCvkPlBkpr3g1Yk/Gy1cP8NA2biM+pK9H3chvySrU78z9bfA90mrvQ+ZMr208tvAcfeRvaiE2j2d+M6/XAQSPivqDj/tgly+FuTcvkFpDT5AIwY/rIUpvxGzAT5T/NS/6u7oPlqEIb+S7Ci/FvWMvZOS0cAC5Bq/adW8P1umVL3tWLXAq+XKvxMt+D7woRe/YlNJPrJmHb9yCB6/fhcXve1J078f7ew+sC/OP5emMT/HSWK/OU2PP8cpf7/b/Fe/F4w6vzqiNb+olAY92eaxP/P9Kb/YcQbA+/EDvznx4b0h7t6/2dGnvnla2r1KTJg9PcdnP4CWkD+zIa+/F52Hv/PBJD5gXEQ/IKj8PmfzZr/LaJA+FS8Dv0ARZr8hLIq/CE8mPxTD1L/MJ0C/hsxLv7sAAL4cb4c/J/oyP+28j73j9zG/6eOIv8Jptj5lA10/pc+Ivwr6Wr9D/3U+BUN4vlYchD4bMSW/Cb6WP9lYbL+4hx4/YEUev0VK+j1gKny9dpUyvyAstsCd88G+MO9Iv9ShZD/T6UA+d3JKv3Lx+71wvc49OvXLwGqb4b8b4R8/c5pvv5Hew7/pIs0+LNKkv9oZSD+cgcg9PllVvzzOlb9wC9y+z27Fv5ioKT8JtLe//4hFvrzBmr/6YBs//5QbP0ifjz8dnOy+KguOPixylL+XP2K9clpOv2ConD8ONqq/xbGxv7Jljz+r2Fa/o1s7vw=="
         },
         "z": {
          "dtype": "f4",
          "bdata": "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"
         },
         "type": "scatter3d",
         "scene": "scene2"
        },
        {
         "hovertemplate": "%{text}<extra></extra>",
         "marker": {
          "color": "#45B7D1",
          "opacity": 0.6,
          "size": 4
         },
         "mode": "markers",
         "name": "Cleaned C2 (76)",
         "showlegend": false,
         "text": [
          "Cluster 2<br>Dept: Unknown<br>Risk: 0.000",
          "Cluster 2<br>Dept: Unknown<br>Risk: 0.000",
          "Cluster 2<br>Dept: Unknown<br>Risk: 0.000",
          "Cluster 2<br>Dept: Unknown<br>Risk: 0.000",
          "Cluster 2<br>Dept: Unknown<br>Risk: 0.000",
          "Cluster 2<br>Dept: Unknown<br>Risk: 0.000",
          "Cluster 2<br>Dept: Unknown<br>Risk: 0.000",
          "Cluster 2<br>Dept: Unknown<br>Risk: 0.000",
          "Cluster 2<br>Dept: Unknown<br>Risk: 0.000",
          "Cluster 2<br>Dept: Unknown<br>Risk: 0.000",
          "Cluster 2<br>Dept: Unknown<br>Risk: 0.000",
          "Cluster 2<br>Dept: Unknown<br>Risk: 0.000",
          "Cluster 2<br>Dept: Unknown<br>Risk: 0.000",
          "Cluster 2<br>Dept: Unknown<br>Risk: 0.000",
          "Cluster 2<br>Dept: Unknown<br>Risk: 0.000",
          "Cluster 2<br>Dept: Unknown<br>Risk: 0.000",
          "Cluster 2<br>Dept: Unknown<br>Risk: 0.000",
          "Cluster 2<br>Dept: Unknown<br>Risk: 0.000",
          "Cluster 2<br>Dept: Unknown<br>Risk: 0.000",
          "Cluster 2<br>Dept: Unknown<br>Risk: 0.000",
          "Cluster 2<br>Dept: Unknown<br>Risk: 0.000",
          "Cluster 2<br>Dept: Unknown<br>Risk: 0.000",
          "Cluster 2<br>Dept: Unknown<br>Risk: 0.000",
          "Cluster 2<br>Dept: Unknown<br>Risk: 0.000",
          "Cluster 2<br>Dept: Unknown<br>Risk: 0.000",
          "Cluster 2<br>Dept: Unknown<br>Risk: 0.000",
          "Cluster 2<br>Dept: Unknown<br>Risk: 0.000",
          "Cluster 2<br>Dept: Unknown<br>Risk: 0.000",
          "Cluster 2<br>Dept: Unknown<br>Risk: 0.000",
          "Cluster 2<br>Dept: Unknown<br>Risk: 0.000",
          "Cluster 2<br>Dept: Unknown<br>Risk: 0.000",
          "Cluster 2<br>Dept: Unknown<br>Risk: 0.000",
          "Cluster 2<br>Dept: Unknown<br>Risk: 0.000",
          "Cluster 2<br>Dept: Unknown<br>Risk: 0.000",
          "Cluster 2<br>Dept: Unknown<br>Risk: 0.000",
          "Cluster 2<br>Dept: Unknown<br>Risk: 0.000",
          "Cluster 2<br>Dept: Unknown<br>Risk: 0.000",
          "Cluster 2<br>Dept: Unknown<br>Risk: 0.000",
          "Cluster 2<br>Dept: Unknown<br>Risk: 0.000",
          "Cluster 2<br>Dept: Unknown<br>Risk: 0.000",
          "Cluster 2<br>Dept: Unknown<br>Risk: 0.000",
          "Cluster 2<br>Dept: Unknown<br>Risk: 0.000",
          "Cluster 2<br>Dept: Unknown<br>Risk: 0.000",
          "Cluster 2<br>Dept: Unknown<br>Risk: 0.000",
          "Cluster 2<br>Dept: Unknown<br>Risk: 0.000",
          "Cluster 2<br>Dept: Unknown<br>Risk: 0.000",
          "Cluster 2<br>Dept: Unknown<br>Risk: 0.000",
          "Cluster 2<br>Dept: Unknown<br>Risk: 0.000",
          "Cluster 2<br>Dept: Unknown<br>Risk: 0.000",
          "Cluster 2<br>Dept: Unknown<br>Risk: 0.000",
          "Cluster 2<br>Dept: Unknown<br>Risk: 0.000",
          "Cluster 2<br>Dept: Unknown<br>Risk: 0.000",
          "Cluster 2<br>Dept: Unknown<br>Risk: 0.000",
          "Cluster 2<br>Dept: Unknown<br>Risk: 0.000",
          "Cluster 2<br>Dept: Unknown<br>Risk: 0.000",
          "Cluster 2<br>Dept: Unknown<br>Risk: 0.000",
          "Cluster 2<br>Dept: Unknown<br>Risk: 0.000",
          "Cluster 2<br>Dept: Unknown<br>Risk: 0.000",
          "Cluster 2<br>Dept: Unknown<br>Risk: 0.000",
          "Cluster 2<br>Dept: Unknown<br>Risk: 0.000",
          "Cluster 2<br>Dept: Unknown<br>Risk: 0.000",
          "Cluster 2<br>Dept: Unknown<br>Risk: 0.000",
          "Cluster 2<br>Dept: Unknown<br>Risk: 0.000",
          "Cluster 2<br>Dept: Unknown<br>Risk: 0.000",
          "Cluster 2<br>Dept: Unknown<br>Risk: 0.000",
          "Cluster 2<br>Dept: Unknown<br>Risk: 0.000",
          "Cluster 2<br>Dept: Unknown<br>Risk: 0.000",
          "Cluster 2<br>Dept: Unknown<br>Risk: 0.000",
          "Cluster 2<br>Dept: Unknown<br>Risk: 0.000",
          "Cluster 2<br>Dept: Unknown<br>Risk: 0.000",
          "Cluster 2<br>Dept: Unknown<br>Risk: 0.000",
          "Cluster 2<br>Dept: Unknown<br>Risk: 0.000",
          "Cluster 2<br>Dept: Unknown<br>Risk: 0.000",
          "Cluster 2<br>Dept: Unknown<br>Risk: 0.000",
          "Cluster 2<br>Dept: Unknown<br>Risk: 0.000",
          "Cluster 2<br>Dept: Unknown<br>Risk: 0.000"
         ],
         "x": {
          "dtype": "f4",
          "bdata": "hQmvQfR2skFa7UhBwoZWQXjlVUHc0bhBBkhTQY8zREHhartB3vu0QX7UVUHvibZBjadaQZ7YQEEy/VpBNZVbQadHUEFppUhBQm5fQdr1tkHcDUlBlTpmQfVnTEGMqbVBIihNQcBFN0Gc1VVB0+Q6QdymVUHJObdBxz9JQTH1s0H0RkdBKT6xQXI6OkHC8bZBTwRSQYirZkElWlZBbFNMQQZNS0FRP75BoRljQUX6WUESrbdBRJe4QWVzSEEQd2ZBizCxQRXDu0HkusBBbqVVQY9DQ0EsZ01BKJuuQbkwsUE7tUBB9mtaQYhdN0FR5LVBV05HQdqJKUGRr01BTFpWQSfLLkG877ZB40pWQbu0U0HF+k1Bal1MQcV9Y0HsWU5B3+1bQZLLt0GHtUVBnf6sQQ=="
         },
         "y": {
          "dtype": "f4",
          "bdata": "/Ef8v7dyScDIXWXBTc9owRXFYMGeohDAr75cwSRGWcHa6Y3AtKp/wKUUX8GFbQjAS7JnwfweVcFzoVrBjkxiwYxYYsG0PFjBHeVvwZWnBsAk91rBrDp6wSxNY8GnoqnAxRVkwapATcFhxVvBtENXwTAdYMFtTI/AnbpcweGvesC3a1fBqg9vwIC4QsEt5PC/erJvwRmyaMGDoW3B5mBkwWtzVsEgvxHAaxhlwbt9dcFpaCPA3TwHwAccW8GlZWnB8kV3wN1tesAkSw/ARL58wWg+VcGNElbBwd11wPq1T8DlL1TBCc1kwRS1V8Hnof2/4C5kwb8bUMHWaHTBoU1kwUjqW8ExZUnAZvhqwfMsXsGNaGbBnRtmwa4fb8GZxGbBsi1mwectDMD8vlnBWhUpwA=="
         },
         "z": {
          "dtype": "f4",
          "bdata": "/prVwA/by8Cq66C+GDL1v6d9M0ATa8vA7NeLv0tepj8exnLANy60wD8GZz8X0gTBBQ8KvuZRXj5Gw6m/3/EOv3nTJD/xS3k/tBQDvrENX8CQzrs/QW+CwIIBcD8rBWLA3R8qv4/dOUCRGuy+Qm2yP4pL9D65DsLAbEtkP2U+6cA3OZs/gZtAwH+Tsj/QCmy/+zyYvgaKAb930uy+lQ1mPhW4dD8VOOPAWsEyPzS6I77U3szAtHXhwNsCFUCXgcG/4CTAwF7MtcBWusTA5Q32v1K8fL5nCmE/KGbbwGmJh8D+jBe/piyXv67jCEA1feLAAPSGvwnA3j/sQlrAWqgMP435KD6/mcfA5a9GwEH3N0Dcat6+pO0FQPyT4L6RT0Q/GwUUQF690MB6P5m/cXnewA=="
         },
         "type": "scatter3d",
         "scene": "scene2"
        }
       ],
       "layout": {
        "template": {
         "data": {
          "histogram2dcontour": [
           {
            "type": "histogram2dcontour",
            "colorbar": {
             "outlinewidth": 0,
             "ticks": ""
            },
            "colorscale": [
             [
              0.0,
              "#0d0887"
             ],
             [
              0.1111111111111111,
              "#46039f"
             ],
             [
              0.2222222222222222,
              "#7201a8"
             ],
             [
              0.3333333333333333,
              "#9c179e"
             ],
             [
              0.4444444444444444,
              "#bd3786"
             ],
             [
              0.5555555555555556,
              "#d8576b"
             ],
             [
              0.6666666666666666,
              "#ed7953"
             ],
             [
              0.7777777777777778,
              "#fb9f3a"
             ],
             [
              0.8888888888888888,
              "#fdca26"
             ],
             [
              1.0,
              "#f0f921"
             ]
            ]
           }
          ],
          "choropleth": [
           {
            "type": "choropleth",
            "colorbar": {
             "outlinewidth": 0,
             "ticks": ""
            }
           }
          ],
          "histogram2d": [
           {
            "type": "histogram2d",
            "colorbar": {
             "outlinewidth": 0,
             "ticks": ""
            },
            "colorscale": [
             [
              0.0,
              "#0d0887"
             ],
             [
              0.1111111111111111,
              "#46039f"
             ],
             [
              0.2222222222222222,
              "#7201a8"
             ],
             [
              0.3333333333333333,
              "#9c179e"
             ],
             [
              0.4444444444444444,
              "#bd3786"
             ],
             [
              0.5555555555555556,
              "#d8576b"
             ],
             [
              0.6666666666666666,
              "#ed7953"
             ],
             [
              0.7777777777777778,
              "#fb9f3a"
             ],
             [
              0.8888888888888888,
              "#fdca26"
             ],
             [
              1.0,
              "#f0f921"
             ]
            ]
           }
          ],
          "heatmap": [
           {
            "type": "heatmap",
            "colorbar": {
             "outlinewidth": 0,
             "ticks": ""
            },
            "colorscale": [
             [
              0.0,
              "#0d0887"
             ],
             [
              0.1111111111111111,
              "#46039f"
             ],
             [
              0.2222222222222222,
              "#7201a8"
             ],
             [
              0.3333333333333333,
              "#9c179e"
             ],
             [
              0.4444444444444444,
              "#bd3786"
             ],
             [
              0.5555555555555556,
              "#d8576b"
             ],
             [
              0.6666666666666666,
              "#ed7953"
             ],
             [
              0.7777777777777778,
              "#fb9f3a"
             ],
             [
              0.8888888888888888,
              "#fdca26"
             ],
             [
              1.0,
              "#f0f921"
             ]
            ]
           }
          ],
          "contourcarpet": [
           {
            "type": "contourcarpet",
            "colorbar": {
             "outlinewidth": 0,
             "ticks": ""
            }
           }
          ],
          "contour": [
           {
            "type": "contour",
            "colorbar": {
             "outlinewidth": 0,
             "ticks": ""
            },
            "colorscale": [
             [
              0.0,
              "#0d0887"
             ],
             [
              0.1111111111111111,
              "#46039f"
             ],
             [
              0.2222222222222222,
              "#7201a8"
             ],
             [
              0.3333333333333333,
              "#9c179e"
             ],
             [
              0.4444444444444444,
              "#bd3786"
             ],
             [
              0.5555555555555556,
              "#d8576b"
             ],
             [
              0.6666666666666666,
              "#ed7953"
             ],
             [
              0.7777777777777778,
              "#fb9f3a"
             ],
             [
              0.8888888888888888,
              "#fdca26"
             ],
             [
              1.0,
              "#f0f921"
             ]
            ]
           }
          ],
          "surface": [
           {
            "type": "surface",
            "colorbar": {
             "outlinewidth": 0,
             "ticks": ""
            },
            "colorscale": [
             [
              0.0,
              "#0d0887"
             ],
             [
              0.1111111111111111,
              "#46039f"
             ],
             [
              0.2222222222222222,
              "#7201a8"
             ],
             [
              0.3333333333333333,
              "#9c179e"
             ],
             [
              0.4444444444444444,
              "#bd3786"
             ],
             [
              0.5555555555555556,
              "#d8576b"
             ],
             [
              0.6666666666666666,
              "#ed7953"
             ],
             [
              0.7777777777777778,
              "#fb9f3a"
             ],
             [
              0.8888888888888888,
              "#fdca26"
             ],
             [
              1.0,
              "#f0f921"
             ]
            ]
           }
          ],
          "mesh3d": [
           {
            "type": "mesh3d",
            "colorbar": {
             "outlinewidth": 0,
             "ticks": ""
            }
           }
          ],
          "scatter": [
           {
            "marker": {
             "line": {
              "color": "#283442"
             }
            },
            "type": "scatter"
           }
          ],
          "parcoords": [
           {
            "type": "parcoords",
            "line": {
             "colorbar": {
              "outlinewidth": 0,
              "ticks": ""
             }
            }
           }
          ],
          "scatterpolargl": [
           {
            "type": "scatterpolargl",
            "marker": {
             "colorbar": {
              "outlinewidth": 0,
              "ticks": ""
             }
            }
           }
          ],
          "bar": [
           {
            "error_x": {
             "color": "#f2f5fa"
            },
            "error_y": {
             "color": "#f2f5fa"
            },
            "marker": {
             "line": {
              "color": "rgb(17,17,17)",
              "width": 0.5
             },
             "pattern": {
              "fillmode": "overlay",
              "size": 10,
              "solidity": 0.2
             }
            },
            "type": "bar"
           }
          ],
          "scattergeo": [
           {
            "type": "scattergeo",
            "marker": {
             "colorbar": {
              "outlinewidth": 0,
              "ticks": ""
             }
            }
           }
          ],
          "scatterpolar": [
           {
            "type": "scatterpolar",
            "marker": {
             "colorbar": {
              "outlinewidth": 0,
              "ticks": ""
             }
            }
           }
          ],
          "histogram": [
           {
            "marker": {
             "pattern": {
              "fillmode": "overlay",
              "size": 10,
              "solidity": 0.2
             }
            },
            "type": "histogram"
           }
          ],
          "scattergl": [
           {
            "marker": {
             "line": {
              "color": "#283442"
             }
            },
            "type": "scattergl"
           }
          ],
          "scatter3d": [
           {
            "type": "scatter3d",
            "line": {
             "colorbar": {
              "outlinewidth": 0,
              "ticks": ""
             }
            },
            "marker": {
             "colorbar": {
              "outlinewidth": 0,
              "ticks": ""
             }
            }
           }
          ],
          "scattermap": [
           {
            "type": "scattermap",
            "marker": {
             "colorbar": {
              "outlinewidth": 0,
              "ticks": ""
             }
            }
           }
          ],
          "scattermapbox": [
           {
            "type": "scattermapbox",
            "marker": {
             "colorbar": {
              "outlinewidth": 0,
              "ticks": ""
             }
            }
           }
          ],
          "scatterternary": [
           {
            "type": "scatterternary",
            "marker": {
             "colorbar": {
              "outlinewidth": 0,
              "ticks": ""
             }
            }
           }
          ],
          "scattercarpet": [
           {
            "type": "scattercarpet",
            "marker": {
             "colorbar": {
              "outlinewidth": 0,
              "ticks": ""
             }
            }
           }
          ],
          "carpet": [
           {
            "aaxis": {
             "endlinecolor": "#A2B1C6",
             "gridcolor": "#506784",
             "linecolor": "#506784",
             "minorgridcolor": "#506784",
             "startlinecolor": "#A2B1C6"
            },
            "baxis": {
             "endlinecolor": "#A2B1C6",
             "gridcolor": "#506784",
             "linecolor": "#506784",
             "minorgridcolor": "#506784",
             "startlinecolor": "#A2B1C6"
            },
            "type": "carpet"
           }
          ],
          "table": [
           {
            "cells": {
             "fill": {
              "color": "#506784"
             },
             "line": {
              "color": "rgb(17,17,17)"
             }
            },
            "header": {
             "fill": {
              "color": "#2a3f5f"
             },
             "line": {
              "color": "rgb(17,17,17)"
             }
            },
            "type": "table"
           }
          ],
          "barpolar": [
           {
            "marker": {
             "line": {
              "color": "rgb(17,17,17)",
              "width": 0.5
             },
             "pattern": {
              "fillmode": "overlay",
              "size": 10,
              "solidity": 0.2
             }
            },
            "type": "barpolar"
           }
          ],
          "pie": [
           {
            "automargin": true,
            "type": "pie"
           }
          ]
         },
         "layout": {
          "autotypenumbers": "strict",
          "colorway": [
           "#636efa",
           "#EF553B",
           "#00cc96",
           "#ab63fa",
           "#FFA15A",
           "#19d3f3",
           "#FF6692",
           "#B6E880",
           "#FF97FF",
           "#FECB52"
          ],
          "font": {
           "color": "#f2f5fa"
          },
          "hovermode": "closest",
          "hoverlabel": {
           "align": "left"
          },
          "paper_bgcolor": "rgb(17,17,17)",
          "plot_bgcolor": "rgb(17,17,17)",
          "polar": {
           "bgcolor": "rgb(17,17,17)",
           "angularaxis": {
            "gridcolor": "#506784",
            "linecolor": "#506784",
            "ticks": ""
           },
           "radialaxis": {
            "gridcolor": "#506784",
            "linecolor": "#506784",
            "ticks": ""
           }
          },
          "ternary": {
           "bgcolor": "rgb(17,17,17)",
           "aaxis": {
            "gridcolor": "#506784",
            "linecolor": "#506784",
            "ticks": ""
           },
           "baxis": {
            "gridcolor": "#506784",
            "linecolor": "#506784",
            "ticks": ""
           },
           "caxis": {
            "gridcolor": "#506784",
            "linecolor": "#506784",
            "ticks": ""
           }
          },
          "coloraxis": {
           "colorbar": {
            "outlinewidth": 0,
            "ticks": ""
           }
          },
          "colorscale": {
           "sequential": [
            [
             0.0,
             "#0d0887"
            ],
            [
             0.1111111111111111,
             "#46039f"
            ],
            [
             0.2222222222222222,
             "#7201a8"
            ],
            [
             0.3333333333333333,
             "#9c179e"
            ],
            [
             0.4444444444444444,
             "#bd3786"
            ],
            [
             0.5555555555555556,
             "#d8576b"
            ],
            [
             0.6666666666666666,
             "#ed7953"
            ],
            [
             0.7777777777777778,
             "#fb9f3a"
            ],
            [
             0.8888888888888888,
             "#fdca26"
            ],
            [
             1.0,
             "#f0f921"
            ]
           ],
           "sequentialminus": [
            [
             0.0,
             "#0d0887"
            ],
            [
             0.1111111111111111,
             "#46039f"
            ],
            [
             0.2222222222222222,
             "#7201a8"
            ],
            [
             0.3333333333333333,
             "#9c179e"
            ],
            [
             0.4444444444444444,
             "#bd3786"
            ],
            [
             0.5555555555555556,
             "#d8576b"
            ],
            [
             0.6666666666666666,
             "#ed7953"
            ],
            [
             0.7777777777777778,
             "#fb9f3a"
            ],
            [
             0.8888888888888888,
             "#fdca26"
            ],
            [
             1.0,
             "#f0f921"
            ]
           ],
           "diverging": [
            [
             0,
             "#8e0152"
            ],
            [
             0.1,
             "#c51b7d"
            ],
            [
             0.2,
             "#de77ae"
            ],
            [
             0.3,
             "#f1b6da"
            ],
            [
             0.4,
             "#fde0ef"
            ],
            [
             0.5,
             "#f7f7f7"
            ],
            [
             0.6,
             "#e6f5d0"
            ],
            [
             0.7,
             "#b8e186"
            ],
            [
             0.8,
             "#7fbc41"
            ],
            [
             0.9,
             "#4d9221"
            ],
            [
             1,
             "#276419"
            ]
           ]
          },
          "xaxis": {
           "gridcolor": "#283442",
           "linecolor": "#506784",
           "ticks": "",
           "title": {
            "standoff": 15
           },
           "zerolinecolor": "#283442",
           "automargin": true,
           "zerolinewidth": 2
          },
          "yaxis": {
           "gridcolor": "#283442",
           "linecolor": "#506784",
           "ticks": "",
           "title": {
            "standoff": 15
           },
           "zerolinecolor": "#283442",
           "automargin": true,
           "zerolinewidth": 2
          },
          "scene": {
           "xaxis": {
            "backgroundcolor": "rgb(17,17,17)",
            "gridcolor": "#506784",
            "linecolor": "#506784",
            "showbackground": true,
            "ticks": "",
            "zerolinecolor": "#C8D4E3",
            "gridwidth": 2
           },
           "yaxis": {
            "backgroundcolor": "rgb(17,17,17)",
            "gridcolor": "#506784",
            "linecolor": "#506784",
            "showbackground": true,
            "ticks": "",
            "zerolinecolor": "#C8D4E3",
            "gridwidth": 2
           },
           "zaxis": {
            "backgroundcolor": "rgb(17,17,17)",
            "gridcolor": "#506784",
            "linecolor": "#506784",
            "showbackground": true,
            "ticks": "",
            "zerolinecolor": "#C8D4E3",
            "gridwidth": 2
           }
          },
          "shapedefaults": {
           "line": {
            "color": "#f2f5fa"
           }
          },
          "annotationdefaults": {
           "arrowcolor": "#f2f5fa",
           "arrowhead": 0,
           "arrowwidth": 1
          },
          "geo": {
           "bgcolor": "rgb(17,17,17)",
           "landcolor": "rgb(17,17,17)",
           "subunitcolor": "#506784",
           "showland": true,
           "showlakes": true,
           "lakecolor": "rgb(17,17,17)"
          },
          "title": {
           "x": 0.05
          },
          "updatemenudefaults": {
           "bgcolor": "#506784",
           "borderwidth": 0
          },
          "sliderdefaults": {
           "bgcolor": "#C8D4E3",
           "borderwidth": 1,
           "bordercolor": "rgb(17,17,17)",
           "tickwidth": 0
          },
          "mapbox": {
           "style": "dark"
          }
         }
        },
        "scene": {
         "domain": {
          "x": [
           0.0,
           0.475
          ],
          "y": [
           0.0,
           1.0
          ]
         },
         "xaxis": {
          "title": {
           "text": "PC1"
          },
          "gridcolor": "gray",
          "showbackground": false
         },
         "yaxis": {
          "title": {
           "text": "PC2"
          },
          "gridcolor": "gray",
          "showbackground": false
         },
         "zaxis": {
          "title": {
           "text": "PC3"
          },
          "gridcolor": "gray",
          "showbackground": false
         },
         "camera": {
          "eye": {
           "x": 1.5,
           "y": 1.5,
           "z": 1.5
          }
         }
        },
        "scene2": {
         "domain": {
          "x": [
           0.525,
           1.0
          ],
          "y": [
           0.0,
           1.0
          ]
         },
         "xaxis": {
          "title": {
           "text": "PC1"
          },
          "gridcolor": "gray",
          "showbackground": false
         },
         "yaxis": {
          "title": {
           "text": "PC2"
          },
          "gridcolor": "gray",
          "showbackground": false
         },
         "zaxis": {
          "title": {
           "text": "PC3"
          },
          "gridcolor": "gray",
          "showbackground": false
         },
         "camera": {
          "eye": {
           "x": 1.5,
           "y": 1.5,
           "z": 1.5
          }
         }
        },
        "annotations": [
         {
          "font": {
           "size": 16
          },
          "showarrow": false,
          "text": "Original Data (k=2, Silhouette=0.142)",
          "x": 0.2375,
          "xanchor": "center",
          "xref": "paper",
          "y": 1.0,
          "yanchor": "bottom",
          "yref": "paper"
         },
         {
          "font": {
           "size": 16
          },
          "showarrow": false,
          "text": "Cleaned Data (k=3, Silhouette=0.099)",
          "x": 0.7625,
          "xanchor": "center",
          "xref": "paper",
          "y": 1.0,
          "yanchor": "bottom",
          "yref": "paper"
         }
        ],
        "title": {
         "text": "Full Employee Clustering: 105325 Toxic Entitlements Removed<br><sup>Silhouette Improvement: -0.043</sup>",
         "x": 0.5,
         "xanchor": "center"
        },
        "legend": {
         "x": 1.02,
         "y": 0.5
        },
        "height": 700,
        "width": 1400,
        "showlegend": true
       },
       "config": {
        "plotlyServerURL": "https://plot.ly"
       }
      }
     },
     "metadata": {},
     "output_type": "display_data"
    }
   ],
   "execution_count": 31
  },
  {
   "metadata": {},
   "cell_type": "code",
   "outputs": [],
   "execution_count": null,
   "source": "",
   "id": "f53aef72f3d7b7f0"
  }
 ],
 "metadata": {
  "kernelspec": {
   "display_name": "Python 3",
   "language": "python",
   "name": "python3"
  },
  "language_info": {
   "codemirror_mode": {
    "name": "ipython",
    "version": 2
   },
   "file_extension": ".py",
   "mimetype": "text/x-python",
   "name": "python",
   "nbconvert_exporter": "python",
   "pygments_lexer": "ipython2",
   "version": "2.7.6"
  }
 },
 "nbformat": 4,
 "nbformat_minor": 5
}
